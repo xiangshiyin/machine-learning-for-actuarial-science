{
 "cells": [
  {
   "cell_type": "markdown",
   "metadata": {},
   "source": [
    "(**Click the icon below to open this notebook in Colab**)\n",
    "[![Open InColab](https://colab.research.google.com/assets/colab-badge.svg)](https://colab.research.google.com/github/xiangshiyin/machine-learning-for-actuarial-science/blob/main/2025-spring/week03/notebook/demo.ipynb)"
   ]
  },
  {
   "cell_type": "code",
   "execution_count": 2,
   "metadata": {},
   "outputs": [
    {
     "name": "stdout",
     "output_type": "stream",
     "text": [
      "/Users/xiangshiyin/Documents/Teaching/machine-learning-for-actuarial-science/.venv/bin/python\n"
     ]
    }
   ],
   "source": [
    "%%sh\n",
    "\n",
    "which python"
   ]
  },
  {
   "cell_type": "markdown",
   "metadata": {},
   "source": [
    "# Load the MNIST data\n",
    "\n",
    "We will take the built-in hand-written digits dataset in `scikit-learn` as an example. This is a copy of the test set of the UCI ML hand-written digits datasets https://archive.ics.uci.edu/ml/datasets/Optical+Recognition+of+Handwritten+Digits\n",
    "\n",
    "Each datapoint is a 8x8 image of a digit.\n",
    "\n",
    "| Attribute           | Value         |\n",
    "|---------------------|---------------|\n",
    "| Classes             | 10            |\n",
    "| Samples per class   | ~180          |\n",
    "| Samples total       | 1797          |\n",
    "| Dimensionality      | 64            |\n",
    "| Features            | integers 0-16 |\n"
   ]
  },
  {
   "cell_type": "code",
   "execution_count": 1,
   "metadata": {},
   "outputs": [],
   "source": [
    "from sklearn import datasets\n",
    "\n",
    "digits = datasets.load_digits()"
   ]
  },
  {
   "cell_type": "code",
   "execution_count": 3,
   "metadata": {},
   "outputs": [],
   "source": [
    "data = digits.data # the input X\n",
    "target = digits.target # the output Y\n",
    "feature_names = digits.feature_names\n",
    "target_names = digits.target_names"
   ]
  },
  {
   "cell_type": "code",
   "execution_count": 4,
   "metadata": {},
   "outputs": [
    {
     "name": "stdout",
     "output_type": "stream",
     "text": [
      "The shape of the data is (1797, 64)\n",
      "The shape of the target is (1797,)\n",
      "First 5 feature names are ['pixel_0_0', 'pixel_0_1', 'pixel_0_2', 'pixel_0_3', 'pixel_0_4']\n",
      "Target names are [0 1 2 3 4 5 6 7 8 9]\n"
     ]
    }
   ],
   "source": [
    "print(f\"The shape of the data is {data.shape}\")\n",
    "print(f\"The shape of the target is {target.shape}\")\n",
    "print(f\"First 5 feature names are {feature_names[:5]}\")\n",
    "print(f\"Target names are {target_names}\")"
   ]
  },
  {
   "cell_type": "code",
   "execution_count": 5,
   "metadata": {},
   "outputs": [
    {
     "data": {
      "text/plain": [
       "array([0, 1, 2, 3, 4])"
      ]
     },
     "execution_count": 5,
     "metadata": {},
     "output_type": "execute_result"
    }
   ],
   "source": [
    "target[:5]"
   ]
  },
  {
   "cell_type": "markdown",
   "metadata": {},
   "source": [
    "# Visualize the MNIST digits"
   ]
  },
  {
   "cell_type": "code",
   "execution_count": 6,
   "metadata": {},
   "outputs": [
    {
     "data": {
      "image/png": "[encoded data removed]",
      "text/plain": [
       "<Figure size 1000x500 with 5 Axes>"
      ]
     },
     "metadata": {},
     "output_type": "display_data"
    }
   ],
   "source": [
    "# visualize the first 5 images\n",
    "\n",
    "import matplotlib.pyplot as plt\n",
    "\n",
    "fig, ax = plt.subplots(1, 5, figsize=(10, 5))\n",
    "for i in range(5):\n",
    "    ax[i].imshow(data[i].reshape(8, 8), cmap='gray')\n",
    "    ax[i].set_title(f\"Label: {target[i]}\")\n",
    "    ax[i].axis('off')"
   ]
  },
  {
   "cell_type": "code",
   "execution_count": null,
   "metadata": {},
   "outputs": [],
   "source": []
  },
  {
   "cell_type": "markdown",
   "metadata": {},
   "source": [
    "# The format of the model output\n",
    "The output of the algorithm could be\n",
    "- Option 1: The actual digits [0,9]\n",
    "- Option 2: The one-hot encoded vecor\n",
    "    - Example: number 1 will be represented as [0,1,0,0,0,0,0,0,0,0]\n",
    " \n",
    "If we go with option 2, here are dimensions of data we are dealing with\n",
    "- Input shape: 1797 x 64\n",
    "- Output shape: 1797 x 10"
   ]
  },
  {
   "cell_type": "code",
   "execution_count": null,
   "metadata": {},
   "outputs": [],
   "source": []
  },
  {
   "cell_type": "markdown",
   "metadata": {},
   "source": [
    "# The loss function\n",
    "\n",
    "We use the cross-entropy loss function for this classification problem. \n",
    "\n",
    "## Single Data Point\n",
    "For a single data point, the categorical cross-entropy loss function is defined as:\n",
    "\n",
    "$$\n",
    "\\begin{aligned}\n",
    "L = -\\sum_{j=1}^{C}y_j log(p_j)\n",
    "\\end{aligned}\n",
    "$$\n",
    "\n",
    "Where:\n",
    "* $C$ is the number of classes\n",
    "* $y_i$ is the true label (a one-hot encoded vector, where $y_i=1$ for the correct class and $y_i=0$ for the incorrect classes)\n",
    "* $p_i$ is the predicted probability for class $i$ (output of the softmax function)\n",
    "\n",
    "## Multiple Data Points\n",
    "\n",
    "For a batch of N data points, the loss function is defined as the average over the whole batch:\n",
    "\n",
    "$$\n",
    "\\begin{aligned}\n",
    "L = -\\frac{1}{N}\\sum_{i=1}^{N}\\sum_{j=1}^{C}y_{ij} log(p_{ij})\n",
    "\\end{aligned}\n",
    "$$"
   ]
  },
  {
   "cell_type": "markdown",
   "metadata": {},
   "source": [
    "## Implement the cross-entropy loss function with `numpy`"
   ]
  },
  {
   "cell_type": "code",
   "execution_count": 7,
   "metadata": {},
   "outputs": [],
   "source": [
    "import numpy as np\n",
    "\n",
    "# Implement the single-sample version of the loss function\n",
    "def cross_entropy_loss_single(y_true, y_pred):\n",
    "    # Clip the predicted values to avoid log(0)\n",
    "    y_pred = np.clip(y_pred, 1e-15, 1 - 1e-15)\n",
    "    # Calculate the cross-entropy loss for a single sample\n",
    "    loss = -np.sum(y_true * np.log(y_pred))\n",
    "    return loss"
   ]
  },
  {
   "cell_type": "code",
   "execution_count": 8,
   "metadata": {},
   "outputs": [
    {
     "name": "stdout",
     "output_type": "stream",
     "text": [
      "Loss 1: 0.01005033585350145\n",
      "Loss 2: 0.35667494393873245\n",
      "Loss 3: 1.6094379124341003\n",
      "Loss 4: 1.1086626245216111\n"
     ]
    }
   ],
   "source": [
    "# Example: test the single-sample loss function\n",
    "y_true = np.array([0,1,0])\n",
    "y_pred_1 = np.array([0.,0.99,0.01])\n",
    "y_pred_2 = np.array([0.2,0.7,0.1])\n",
    "y_pred_3 = np.array([0.7,0.2,0.1])\n",
    "y_pred_4 = np.array([0.33,0.33,0.34])\n",
    "loss_1 = cross_entropy_loss_single(y_true,y_pred_1)\n",
    "loss_2 = cross_entropy_loss_single(y_true,y_pred_2)\n",
    "loss_3 = cross_entropy_loss_single(y_true,y_pred_3)\n",
    "loss_4 = cross_entropy_loss_single(y_true,y_pred_4)\n",
    "print(f\"Loss 1: {loss_1}\")\n",
    "print(f\"Loss 2: {loss_2}\")\n",
    "print(f\"Loss 3: {loss_3}\")\n",
    "print(f\"Loss 4: {loss_4}\")"
   ]
  },
  {
   "cell_type": "code",
   "execution_count": 9,
   "metadata": {},
   "outputs": [],
   "source": [
    "# Implement the multi-sample version of the loss function\n",
    "def cross_entropy_loss_multi(y_true, y_pred):\n",
    "    # Calculate the number of samples in the batch\n",
    "    num_samples = y_true.shape[0]\n",
    "    # Calculate the cross-entropy loss for each sample\n",
    "    losses = -np.sum(y_true * np.log(y_pred), axis=1)\n",
    "    # Calculate the average loss across all samples\n",
    "    loss = np.sum(losses) / num_samples\n",
    "    return loss"
   ]
  },
  {
   "cell_type": "code",
   "execution_count": 10,
   "metadata": {},
   "outputs": [
    {
     "name": "stdout",
     "output_type": "stream",
     "text": [
      "[[1 0 0]\n",
      " [0 1 0]\n",
      " [0 0 1]]\n",
      "[[0.58544872 0.10647212 0.30807916]\n",
      " [0.10495975 0.15775603 0.73728422]\n",
      " [0.11822677 0.45973382 0.42203941]]\n",
      "[1. 1. 1.]\n",
      "Loss = 1.0815796007689922\n"
     ]
    }
   ],
   "source": [
    "# Example: test the multi-sample loss function\n",
    "## Generate \n",
    "y_true = np.array([\n",
    "    [1,0,0],\n",
    "    [0,1,0],\n",
    "    [0,0,1]\n",
    "])\n",
    "y_pred = np.random.random(size=(3, 3))\n",
    "y_pred = y_pred / y_pred.sum(axis=1, keepdims=True)\n",
    "loss = cross_entropy_loss_multi(y_true, y_pred)\n",
    "print(y_true)\n",
    "print(y_pred)\n",
    "print(y_pred.sum(axis=1)) # validate if the total is 1\n",
    "print(f\"Loss = {loss}\")"
   ]
  },
  {
   "cell_type": "markdown",
   "metadata": {},
   "source": [
    "# The gradient function\n",
    "**Q**: What would be the corresponding gradient of the cross entropy function we defined earlier?\n",
    "\n",
    "**A**: It depends on the actual prediction model ..."
   ]
  },
  {
   "cell_type": "markdown",
   "metadata": {},
   "source": [
    "## Softmax function\n",
    "\n",
    "The softmax function transforms a vector of real numbers into a vector of probabilities, such that the elements of the output vector are in the range (0, 1) and sum to 1. The softmax function is defined as:\n",
    "\n",
    "$$\n",
    "\\begin{aligned}\n",
    "\\sigma(z_i) = \\frac{e^{z_i}}{\\sum_{j=1}^C e^{z_j}}\n",
    "\\end{aligned}\n",
    "$$\n",
    "\n",
    "Where:\n",
    "- $z_i$ is the ith element of the input vector\n",
    "- $C$ is the number of elements (classes) in the input vector\n",
    "- The exponential function in the formula above ensures the obtained values are non-negative.\n",
    "- The normalization term in the denominator ensures that the sum of the obtained values from the softmax function sum to 1 and the individual values always lie between 0 and 1.\n"
   ]
  },
  {
   "cell_type": "code",
   "execution_count": 11,
   "metadata": {},
   "outputs": [],
   "source": [
    "def softmax(z):\n",
    "    exp_z = np.exp(z)\n",
    "    # Subtract max for numerical stability to avoid overflow\n",
    "    exp_z = np.exp(z - np.max(z, axis=1, keepdims=True))\n",
    "    return exp_z / np.sum(exp_z, axis=1, keepdims=True)"
   ]
  },
  {
   "cell_type": "code",
   "execution_count": 12,
   "metadata": {},
   "outputs": [
    {
     "name": "stdout",
     "output_type": "stream",
     "text": [
      "[[0.09003057 0.24472847 0.66524096]\n",
      " [0.84379473 0.04201007 0.1141952 ]]\n"
     ]
    }
   ],
   "source": [
    "z = np.array([\n",
    "    [1, 2, 3],\n",
    "    [4, 1, 2]\n",
    "])\n",
    "probabilities = softmax(z)\n",
    "print(probabilities)"
   ]
  },
  {
   "cell_type": "code",
   "execution_count": 13,
   "metadata": {},
   "outputs": [
    {
     "data": {
      "text/plain": [
       "array([[1.],\n",
       "       [1.]])"
      ]
     },
     "execution_count": 13,
     "metadata": {},
     "output_type": "execute_result"
    }
   ],
   "source": [
    "np.sum(probabilities, axis=1, keepdims=True)"
   ]
  },
  {
   "cell_type": "markdown",
   "metadata": {},
   "source": [
    "## The gradient of the loss function\n",
    "\n",
    "We know that the cross entropy loss function for multiple data points can be expressed as\n",
    "$$\n",
    "\\begin{aligned}\n",
    "L = -\\frac{1}{N}\\sum_{i=1}^{N}\\sum_{j=1}^{C}y_{ij} log(p_{ij})\n",
    "\\end{aligned}\n",
    "$$\n",
    "\n",
    "Where \n",
    "- $y_{ij}$ is the ground truth label of the $i^{th}$ data point being of class $j$.\n",
    "- $p_{ij}$ is the probability of the $i^{th}$ data point being of class $j$.\n",
    "\n",
    "Assume $p_{ij}$ can be expressed in the form of a softmax function of an input vector $z_{ij}$:\n",
    "$$\n",
    "\\begin{aligned}\n",
    "p_{ij} = \\frac{e^{z_{ij}}}{\\sum_{k=1}^{C}e^{z_{ik}}}\n",
    "\\end{aligned}\n",
    "$$\n",
    "\n",
    "The loss function could then be rewritten as \n",
    "$$\n",
    "\\begin{aligned}\n",
    "L = -\\frac{1}{N}\\sum_{i=1}^{N}\\sum_{j=1}^{C}y_{ij} log(\\frac{e^{z_{ij}}}{\\sum_{k=1}^{C}e^{z_{ik}}}) = \\frac{1}{N}\\sum_{i=1}^{N}L_i\n",
    "\\end{aligned}\n",
    "$$\n",
    "\n",
    "Where \n",
    "$$\n",
    "\\begin{aligned}\n",
    "L_i = - \\sum_{j=1}^{C}y_{ij} log(p_{ij}) = - \\sum_{j=1}^{C}y_{ij} log(\\frac{e^{z_{ij}}}{\\sum_{k=1}^{C}e^{z_{ik}}})\n",
    "\\end{aligned}\n",
    "$$\n",
    "\n",
    "In order to calculate the gradient function, we could take the following steps:\n",
    "### Step 1: Compute $\\frac{\\partial L_i}{\\partial z_{il}}$\n",
    "$$\n",
    "\\begin{aligned}\n",
    "\\frac{\\partial L_i}{\\partial z_{il}} = - \\sum_{j=1}^{C}y_{ij} \\frac{\\partial log(p_{ij})}{\\partial z_{il}} \n",
    "\\end{aligned}\n",
    "$$\n",
    "\n",
    "$$\n",
    "\\begin{aligned}\n",
    "\\frac{\\partial log(p_{ij})}{\\partial z_{il}} =  \\frac{\\partial (z_{ij} - log(\\sum_{k=1}^{C}e^{z_{ik}}))}{\\partial z_{il}} = \\delta_{jl} - \\frac{e^{z_{il}}}{\\sum_{k=1}^{C}e^{z_{ik}}} = \\delta_{jl} - p_{il}\n",
    "\\end{aligned}\n",
    "$$\n",
    "\n",
    "Therefore,\n",
    "$$\n",
    "\\begin{aligned}\n",
    "\\frac{\\partial L_i}{\\partial z_{il}} = - \\sum_{j=1}^{C}y_{ij} \\frac{\\partial log(p_{ij})}{\\partial z_{il}} = - \\sum_{j=1}^{C}y_{ij} (\\delta_{jl} - p_{il}) = -(y_{il} - p_{il} \\sum_{j=1}^{C}y_{ij}) = p_{il} - y_{il}\n",
    "\\end{aligned}\n",
    "$$\n",
    "\n",
    "### Step 2: Gradient for the batch with regard to the input vector $Z$\n",
    "$$\n",
    "\\begin{aligned}\n",
    "\\frac{\\partial L}{\\partial z_{ij}} = \\frac{1}{N} (p_{il} - y_{il})\n",
    "\\end{aligned}\n",
    "$$\n",
    "\n",
    "If we rewrite the formula in matrix form, we could get:\n",
    "$$\n",
    "\\begin{aligned}\n",
    "\\frac{\\partial L}{\\partial Z} = \\frac{1}{N} (P - Y)\n",
    "\\end{aligned}\n",
    "$$\n",
    "\n",
    "Where:\n",
    "- $Z$ is an input matrix (shape $(N, C)$)\n",
    "- $P$ is a matrix of predicted probabilities (shape $(N, C)$)\n",
    "- $Y$ is a one-hot encoded matrix of ground truth labels (shape $(N, C)$)\n",
    "\n",
    "### Step 3: Gradient for the batch with regard to the weight matrix $\\theta$\n",
    "\n",
    "Assume the following relation between $X$ and $Z$:\n",
    "$$\n",
    "\\begin{aligned}\n",
    "Z = X \\cdot \\theta\n",
    "\\end{aligned}\n",
    "$$\n",
    "\n",
    "Where:\n",
    "- $X$ is the input training data matrix (shape $(N, D)$), where $D$ is the number of features\n",
    "- $\\theta$ is the weight matrix (shape $(D, C)$)\n",
    "\n",
    "According to the chain rule, we could calculate the gradient of the loss function with regard to $\\theta$ as follows:\n",
    "$$\n",
    "\\begin{aligned}\n",
    "\\frac{\\partial L}{\\partial \\theta} = \\frac{\\partial L}{\\partial Z} \\cdot \\frac{\\partial Z}{\\partial \\theta} = \\frac{1}{N} X^T \\cdot (P - Y)\n",
    "\\end{aligned}\n",
    "$$\n",
    "\n"
   ]
  },
  {
   "cell_type": "markdown",
   "metadata": {},
   "source": [
    "# Put all together\n",
    "\n",
    "In order to train a multi-class classification model, we need to repeat the following steps until the model converges or until the maximum number of iterations (also known as `epochs`) is reached:\n",
    "- Iterate over the training data $X_{N \\times D}$, $y_{N \\times C}$\n",
    "- Update the parameters $\\theta = \\theta - \\frac{\\alpha}{N} X^T \\cdot (P - Y)$"
   ]
  },
  {
   "cell_type": "code",
   "execution_count": 15,
   "metadata": {},
   "outputs": [
    {
     "name": "stdout",
     "output_type": "stream",
     "text": [
      "The shape of the data is (1797, 64)\n",
      "The shape of the target is (1797,)\n",
      "First 5 samples of the target are [0 1 2 3 4]\n",
      "Target names are [0 1 2 3 4 5 6 7 8 9]\n"
     ]
    }
   ],
   "source": [
    "# Let's look at the data we have again\n",
    "print(f\"The shape of the data is {data.shape}\")\n",
    "print(f\"The shape of the target is {target.shape}\")\n",
    "print(f\"First 5 samples of the target are {target[:5]}\")\n",
    "print(f\"Target names are {target_names}\")\n"
   ]
  },
  {
   "cell_type": "markdown",
   "metadata": {},
   "source": [
    "## Now we have a problem\n",
    "The shape of the target is of shape (N,) not (N, C)!!!\n",
    "- Specifically, we need the target $Y$ to be of shape $(1797, 10)$"
   ]
  },
  {
   "cell_type": "code",
   "execution_count": 16,
   "metadata": {},
   "outputs": [
    {
     "name": "stdout",
     "output_type": "stream",
     "text": [
      "N: 1797, C: 10\n"
     ]
    }
   ],
   "source": [
    "# We need to do one-hot encoding for each target label\n",
    "\n",
    "N = data.shape[0]\n",
    "C = len(target_names)\n",
    "print(f\"N: {N}, C: {C}\")"
   ]
  },
  {
   "cell_type": "code",
   "execution_count": 17,
   "metadata": {},
   "outputs": [],
   "source": [
    "Y = np.zeros((N, C))\n",
    "Y[np.arange(N), target] = 1"
   ]
  },
  {
   "cell_type": "code",
   "execution_count": 18,
   "metadata": {},
   "outputs": [
    {
     "data": {
      "text/plain": [
       "array([[1., 0., 0., 0., 0., 0., 0., 0., 0., 0.],\n",
       "       [0., 1., 0., 0., 0., 0., 0., 0., 0., 0.],\n",
       "       [0., 0., 1., 0., 0., 0., 0., 0., 0., 0.]])"
      ]
     },
     "execution_count": 18,
     "metadata": {},
     "output_type": "execute_result"
    }
   ],
   "source": [
    "Y[:3]"
   ]
  },
  {
   "cell_type": "code",
   "execution_count": 19,
   "metadata": {},
   "outputs": [
    {
     "data": {
      "text/plain": [
       "array([0, 1, 2])"
      ]
     },
     "execution_count": 19,
     "metadata": {},
     "output_type": "execute_result"
    }
   ],
   "source": [
    "target[:3]"
   ]
  },
  {
   "cell_type": "markdown",
   "metadata": {},
   "source": [
    "## Let's implement the algorithm"
   ]
  },
  {
   "cell_type": "code",
   "execution_count": 20,
   "metadata": {},
   "outputs": [
    {
     "name": "stdout",
     "output_type": "stream",
     "text": [
      "Epoch 0: Loss = 60.566761553085776\n",
      "Epoch 10: Loss = 10.957079130784745\n",
      "Epoch 20: Loss = 4.073395896554243\n",
      "Epoch 30: Loss = 2.6622148037966116\n",
      "Epoch 40: Loss = 1.9901399990076862\n",
      "Epoch 50: Loss = 1.6523905417468232\n",
      "Epoch 60: Loss = 1.3407614744731022\n",
      "Epoch 70: Loss = 1.1322092677026916\n",
      "Epoch 80: Loss = 0.996374294120693\n",
      "Epoch 90: Loss = 0.8945413101988137\n"
     ]
    }
   ],
   "source": [
    "import numpy as np\n",
    "from sklearn import datasets\n",
    "from sklearn.model_selection import train_test_split\n",
    "\n",
    "digits = datasets.load_digits()\n",
    "\n",
    "N = digits.data.shape[0]\n",
    "C = len(digits.target_names)\n",
    "X = data\n",
    "Y = np.zeros((N, C))\n",
    "Y[np.arange(N), digits.target] = 1\n",
    "X_train, X_test, Y_train, Y_test = train_test_split(X, Y, test_size=0.2, random_state=42)\n",
    "\n",
    "epochs = 100\n",
    "alpha = 0.0001\n",
    "def train(X, Y, alpha, epochs):\n",
    "    D, C = X.shape[1], Y.shape[1]\n",
    "    theta = np.random.randn(D, C)\n",
    "    for epoch in range(epochs):\n",
    "        Z = X.dot(theta)\n",
    "        P = softmax(Z)\n",
    "        loss = cross_entropy_loss_multi(Y, P)\n",
    "        if epoch % 10 == 0:\n",
    "            print(f\"Epoch {epoch}: Loss = {loss}\")\n",
    "        theta = theta - alpha * X.T.dot(P - Y)\n",
    "    return theta\n",
    "\n",
    "theta = train(X_train, Y_train, alpha, epochs)\n"
   ]
  },
  {
   "cell_type": "markdown",
   "metadata": {},
   "source": [
    "## Let's make some predictions"
   ]
  },
  {
   "cell_type": "code",
   "execution_count": 21,
   "metadata": {},
   "outputs": [],
   "source": [
    "def predict(X, theta):\n",
    "    P = softmax(X @ theta)\n",
    "    # Convert the one-hot encoded predictions to a single integer\n",
    "    return np.argmax(P, axis=1)"
   ]
  },
  {
   "cell_type": "code",
   "execution_count": 22,
   "metadata": {},
   "outputs": [],
   "source": [
    "y_pred = predict(X_test, theta)"
   ]
  },
  {
   "cell_type": "code",
   "execution_count": 23,
   "metadata": {},
   "outputs": [
    {
     "data": {
      "text/plain": [
       "array([6, 9, 3, 7, 6, 2, 5, 2, 5, 2])"
      ]
     },
     "execution_count": 23,
     "metadata": {},
     "output_type": "execute_result"
    }
   ],
   "source": [
    "y_pred[:10]"
   ]
  },
  {
   "cell_type": "code",
   "execution_count": 24,
   "metadata": {},
   "outputs": [
    {
     "data": {
      "text/plain": [
       "array([6, 9, 3, 7, 2, 1, 5, 2, 5, 2])"
      ]
     },
     "execution_count": 24,
     "metadata": {},
     "output_type": "execute_result"
    }
   ],
   "source": [
    "y_test = np.argmax(Y_test, axis=1)\n",
    "y_test[:10]"
   ]
  },
  {
   "cell_type": "code",
   "execution_count": 25,
   "metadata": {},
   "outputs": [
    {
     "name": "stdout",
     "output_type": "stream",
     "text": [
      "Accuracy: 0.8916666666666667\n"
     ]
    }
   ],
   "source": [
    "# Measure the accuracy of the model we just built\n",
    "accuracy = np.mean(y_test == y_pred)\n",
    "print(f\"Accuracy: {accuracy}\")"
   ]
  },
  {
   "cell_type": "markdown",
   "metadata": {},
   "source": [
    "### Let's clean up the code a bit"
   ]
  },
  {
   "cell_type": "code",
   "execution_count": null,
   "metadata": {},
   "outputs": [],
   "source": []
  },
  {
   "cell_type": "markdown",
   "metadata": {},
   "source": [
    "# Let's try a pre-built model\n",
    "\n",
    "[[Source](https://scikit-learn.org/1.5/auto_examples/classification/plot_digits_classification.html)]"
   ]
  },
  {
   "cell_type": "code",
   "execution_count": 26,
   "metadata": {},
   "outputs": [
    {
     "name": "stdout",
     "output_type": "stream",
     "text": [
      "Test Accuracy: 97.50%\n"
     ]
    },
    {
     "name": "stderr",
     "output_type": "stream",
     "text": [
      "/Users/xiangshiyin/Documents/Teaching/machine-learning-for-actuarial-science/.venv/lib/python3.12/site-packages/sklearn/linear_model/_logistic.py:1247: FutureWarning: 'multi_class' was deprecated in version 1.5 and will be removed in 1.7. From then on, it will always use 'multinomial'. Leave it to its default value to avoid this warning.\n",
      "  warnings.warn(\n"
     ]
    }
   ],
   "source": [
    "import numpy as np\n",
    "from sklearn import datasets\n",
    "from sklearn.model_selection import train_test_split\n",
    "from sklearn.linear_model import LogisticRegression\n",
    "from sklearn.metrics import accuracy_score\n",
    "\n",
    "# Load the MNIST digits dataset\n",
    "digits = datasets.load_digits()\n",
    "\n",
    "# Prepare the data\n",
    "X = digits.data  # Features (8x8 pixel images flattened into 64-dimensional vectors)\n",
    "y = digits.target  # Labels (digits from 0 to 9)\n",
    "\n",
    "# Split the data into training and testing sets\n",
    "X_train, X_test, y_train, y_test = train_test_split(X, y, test_size=0.2, random_state=42)\n",
    "\n",
    "# Initialize the Logistic Regression model\n",
    "# Set multi_class='multinomial' for multi-class classification\n",
    "model = LogisticRegression(max_iter=1000, multi_class='multinomial', solver='lbfgs')\n",
    "\n",
    "# Train the model\n",
    "model.fit(X_train, y_train)\n",
    "\n",
    "# Make predictions on the test set\n",
    "y_pred = model.predict(X_test)\n",
    "\n",
    "# Evaluate the model\n",
    "accuracy = accuracy_score(y_test, y_pred)\n",
    "print(f\"Test Accuracy: {accuracy * 100:.2f}%\")"
   ]
  },
  {
   "cell_type": "code",
   "execution_count": null,
   "metadata": {},
   "outputs": [],
   "source": []
  }
 ],
 "metadata": {
  "kernelspec": {
   "display_name": "Python 3 (ipykernel)",
   "language": "python",
   "name": "python3"
  },
  "language_info": {
   "codemirror_mode": {
    "name": "ipython",
    "version": 3
   },
   "file_extension": ".py",
   "mimetype": "text/x-python",
   "name": "python",
   "nbconvert_exporter": "python",
   "pygments_lexer": "ipython3",
   "version": "3.12.6"
  }
 },
 "nbformat": 4,
 "nbformat_minor": 4
}
