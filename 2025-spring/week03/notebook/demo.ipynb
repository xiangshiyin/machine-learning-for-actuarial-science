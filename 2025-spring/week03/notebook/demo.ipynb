{
 "cells": [
  {
   "cell_type": "markdown",
   "metadata": {},
   "source": [
    "(**Click the icon below to open this notebook in Colab**)\n",
    "[![Open InColab](https://colab.research.google.com/assets/colab-badge.svg)](https://colab.research.google.com/github/xiangshiyin/machine-learning-for-actuarial-science/blob/main/2025-spring/week03/notebook/demo.ipynb)"
   ]
  },
  {
   "cell_type": "code",
   "execution_count": 14,
   "metadata": {},
   "outputs": [
    {
     "name": "stdout",
     "output_type": "stream",
     "text": [
      "/Users/xiangshiyin/Documents/Teaching/machine-learning-for-actuarial-science/.venv/bin/python\n"
     ]
    }
   ],
   "source": [
    "%%sh\n",
    "\n",
    "which python"
   ]
  },
  {
   "cell_type": "markdown",
   "metadata": {},
   "source": [
    "# Load the MNIST data\n",
    "\n",
    "We will take the built-in hand-written digits dataset in `scikit-learn` as an example. This is a copy of the test set of the UCI ML hand-written digits datasets https://archive.ics.uci.edu/ml/datasets/Optical+Recognition+of+Handwritten+Digits\n",
    "\n",
    "Each datapoint is a 8x8 image of a digit.\n",
    "\n",
    "| Attribute           | Value         |\n",
    "|---------------------|---------------|\n",
    "| Classes             | 10            |\n",
    "| Samples per class   | ~180          |\n",
    "| Samples total       | 1797          |\n",
    "| Dimensionality      | 64            |\n",
    "| Features            | integers 0-16 |\n"
   ]
  },
  {
   "cell_type": "code",
   "execution_count": 15,
   "metadata": {},
   "outputs": [],
   "source": [
    "from sklearn import datasets\n",
    "\n",
    "digits = datasets.load_digits()"
   ]
  },
  {
   "cell_type": "code",
   "execution_count": 16,
   "metadata": {},
   "outputs": [],
   "source": [
    "data = digits.data\n",
    "target = digits.target\n",
    "feature_names = digits.feature_names\n",
    "target_names = digits.target_names"
   ]
  },
  {
   "cell_type": "code",
   "execution_count": 17,
   "metadata": {},
   "outputs": [
    {
     "name": "stdout",
     "output_type": "stream",
     "text": [
      "The shape of the data is (1797, 64)\n",
      "The shape of the target is (1797,)\n",
      "First 5 feature names are ['pixel_0_0', 'pixel_0_1', 'pixel_0_2', 'pixel_0_3', 'pixel_0_4']\n",
      "Target names are [0 1 2 3 4 5 6 7 8 9]\n"
     ]
    }
   ],
   "source": [
    "print(f\"The shape of the data is {data.shape}\")\n",
    "print(f\"The shape of the target is {target.shape}\")\n",
    "print(f\"First 5 feature names are {feature_names[:5]}\")\n",
    "print(f\"Target names are {target_names}\")"
   ]
  },
  {
   "cell_type": "code",
   "execution_count": 18,
   "metadata": {},
   "outputs": [
    {
     "data": {
      "text/plain": [
       "array([0, 1, 2, 3, 4])"
      ]
     },
     "execution_count": 18,
     "metadata": {},
     "output_type": "execute_result"
    }
   ],
   "source": [
    "target[:5]"
   ]
  },
  {
   "cell_type": "markdown",
   "metadata": {},
   "source": [
    "# Visualize the MNIST digits"
   ]
  },
  {
   "cell_type": "code",
   "execution_count": 19,
   "metadata": {},
   "outputs": [
    {
     "data": {
      "image/png": "[encoded data removed]",
      "text/plain": [
       "<Figure size 1000x500 with 5 Axes>"
      ]
     },
     "metadata": {},
     "output_type": "display_data"
    }
   ],
   "source": [
    "# visualize the first 5 images\n",
    "\n",
    "import matplotlib.pyplot as plt\n",
    "\n",
    "fig, ax = plt.subplots(1, 5, figsize=(10, 5))\n",
    "for i in range(5):\n",
    "    ax[i].imshow(data[i].reshape(8, 8), cmap='gray')\n",
    "    ax[i].set_title(f\"Label: {target[i]}\")\n",
    "    ax[i].axis('off')"
   ]
  },
  {
   "cell_type": "code",
   "execution_count": null,
   "metadata": {},
   "outputs": [],
   "source": []
  },
  {
   "cell_type": "markdown",
   "metadata": {},
   "source": [
    "# The loss function\n",
    "\n",
    "We use the cross-entropy loss function for this classification problem. \n",
    "\n",
    "## Single Data Point\n",
    "For a single data point, the categorical cross-entropy loss function is defined as:\n",
    "\n",
    "$$\n",
    "\\begin{aligned}\n",
    "L = -\\sum_{i=1}^{C}y_i log(p_i)\n",
    "\\end{aligned}\n",
    "$$\n",
    "\n",
    "Where:\n",
    "* $C$ is the number of classes\n",
    "* $y_i$ is the true label (a one-hot encoded vector, where $y_i=1$ for the correct class and $y_i=0$ for the incorrect classes)\n",
    "* $p_i$ is the predicted probability for class $i$ (output of the softmax function)\n",
    "\n",
    "## Multiple Data Points\n",
    "\n",
    "For a batch of N data points, the loss function is defined as the average over the whole batch:\n",
    "\n",
    "$$\n",
    "\\begin{aligned}\n",
    "L = -\\frac{1}{N}\\sum_{j=1}^{N}\\sum_{i=1}^{C}y_{ij} log(p_{ij})\n",
    "\\end{aligned}\n",
    "$$"
   ]
  },
  {
   "cell_type": "markdown",
   "metadata": {},
   "source": [
    "## Implement the cross-entropy loss function with `numpy`"
   ]
  },
  {
   "cell_type": "code",
   "execution_count": 20,
   "metadata": {},
   "outputs": [],
   "source": [
    "import numpy as np\n",
    "\n",
    "# Implement the single-sample version of the loss function\n",
    "def cross_entropy_loss_single(y_true, y_pred):\n",
    "    # Clip the predicted values to avoid log(0)\n",
    "    y_pred = np.clip(y_pred, 1e-15, 1 - 1e-15)\n",
    "    # Calculate the cross-entropy loss for a single sample\n",
    "    loss = -np.sum(y_true * np.log(y_pred))\n",
    "    return loss"
   ]
  },
  {
   "cell_type": "code",
   "execution_count": 21,
   "metadata": {},
   "outputs": [
    {
     "name": "stdout",
     "output_type": "stream",
     "text": [
      "Loss 1: 0.01005033585350145\n",
      "Loss 2: 0.35667494393873245\n",
      "Loss 3: 1.6094379124341003\n",
      "Loss 4: 1.1086626245216111\n"
     ]
    }
   ],
   "source": [
    "# Example: test the single-sample loss function\n",
    "y_true = np.array([0,1,0])\n",
    "y_pred_1 = np.array([0.,0.99,0.01])\n",
    "y_pred_2 = np.array([0.2,0.7,0.1])\n",
    "y_pred_3 = np.array([0.7,0.2,0.1])\n",
    "y_pred_4 = np.array([0.33,0.33,0.34])\n",
    "loss_1 = cross_entropy_loss_single(y_true,y_pred_1)\n",
    "loss_2 = cross_entropy_loss_single(y_true,y_pred_2)\n",
    "loss_3 = cross_entropy_loss_single(y_true,y_pred_3)\n",
    "loss_4 = cross_entropy_loss_single(y_true,y_pred_4)\n",
    "print(f\"Loss 1: {loss_1}\")\n",
    "print(f\"Loss 2: {loss_2}\")\n",
    "print(f\"Loss 3: {loss_3}\")\n",
    "print(f\"Loss 4: {loss_4}\")"
   ]
  },
  {
   "cell_type": "code",
   "execution_count": 22,
   "metadata": {},
   "outputs": [],
   "source": [
    "# Implement the multi-sample version of the loss function\n",
    "def cross_entropy_loss_multi(y_true, y_pred):\n",
    "    # Calculate the number of samples in the batch\n",
    "    num_samples = y_true.shape[0]\n",
    "    # Calculate the cross-entropy loss for each sample\n",
    "    losses = -np.sum(y_true * np.log(y_pred), axis=1)\n",
    "    # Calculate the average loss across all samples\n",
    "    loss = np.sum(losses) / num_samples\n",
    "    return loss"
   ]
  },
  {
   "cell_type": "code",
   "execution_count": 26,
   "metadata": {},
   "outputs": [
    {
     "name": "stdout",
     "output_type": "stream",
     "text": [
      "[[1 0 0]\n",
      " [0 1 0]\n",
      " [0 0 1]]\n",
      "[[0.17302208 0.38173056 0.44524735]\n",
      " [0.52762306 0.17116262 0.30121432]\n",
      " [0.73827282 0.14995137 0.11177581]]\n",
      "[1. 1. 1.]\n",
      "Loss = 1.9035791111153009\n"
     ]
    }
   ],
   "source": [
    "# Example: test the multi-sample loss function\n",
    "## Generate \n",
    "y_true = np.array([\n",
    "    [1,0,0],\n",
    "    [0,1,0],\n",
    "    [0,0,1]\n",
    "])\n",
    "y_pred = np.random.random(size=(3, 3))\n",
    "y_pred = y_pred / y_pred.sum(axis=1, keepdims=True)\n",
    "loss = cross_entropy_loss_multi(y_true, y_pred)\n",
    "print(y_true)\n",
    "print(y_pred)\n",
    "print(y_pred.sum(axis=1)) # validate if the total is 1\n",
    "print(f\"Loss = {loss}\")"
   ]
  },
  {
   "cell_type": "code",
   "execution_count": null,
   "metadata": {},
   "outputs": [],
   "source": []
  },
  {
   "cell_type": "code",
   "execution_count": null,
   "metadata": {},
   "outputs": [],
   "source": []
  }
 ],
 "metadata": {
  "kernelspec": {
   "display_name": ".venv",
   "language": "python",
   "name": "python3"
  },
  "language_info": {
   "codemirror_mode": {
    "name": "ipython",
    "version": 3
   },
   "file_extension": ".py",
   "mimetype": "text/x-python",
   "name": "python",
   "nbconvert_exporter": "python",
   "pygments_lexer": "ipython3",
   "version": "3.12.6"
  }
 },
 "nbformat": 4,
 "nbformat_minor": 4
}
