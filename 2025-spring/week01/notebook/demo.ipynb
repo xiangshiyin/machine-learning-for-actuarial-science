{
    "cells": [
        {
            "cell_type": "markdown",
            "metadata": {},
            "source": [
                "(**Click the icon below to open this notebook in Colab**)\n",
                "\n",
                "[![Open InColab](https://colab.research.google.com/assets/colab-badge.svg)](https://colab.research.google.com/github/xiangshiyin/machine-learning-for-actuarial-science/blob/main/2025-spring/week01/notebook/demo.ipynb)"
            ]
        },
        {
            "cell_type": "markdown",
            "metadata": {},
            "source": [
                "## Python basics refresher"
            ]
        },
        {
            "cell_type": "markdown",
            "metadata": {},
            "source": [
                "### Variables\n",
                "\n",
                "* A Python variable is a reserved memory location to store values. It is a placeholder where you could use to save parameters that'll be repeatly used in your program. The assignment statement (a.k.a. definition) of a variable normally follows the pattern of `<variable_name> = value`. Unlike other programming languages (such as C/C++/Java), you don't need to clarify the data type of the variable.\n",
                "* `=` is the assigning operator in Python, not the logic operator (`equal`, we'll talk about this later)\n",
                "* Value can be of any data structure, such as integer, float, string, list, tuple, dictionary, etc."
            ]
        },
        {
            "cell_type": "code",
            "execution_count": 1,
            "metadata": {},
            "outputs": [
                {
                    "name": "stdout",
                    "output_type": "stream",
                    "text": [
                        "123\n"
                    ]
                }
            ],
            "source": [
                "# Declare a variable and initialize it\n",
                "a = 123\n",
                "print(a)"
            ]
        },
        {
            "cell_type": "code",
            "execution_count": 2,
            "metadata": {},
            "outputs": [
                {
                    "name": "stdout",
                    "output_type": "stream",
                    "text": [
                        "456\n"
                    ]
                }
            ],
            "source": [
                "# Change the value of the variable\n",
                "a = 456\n",
                "print(a)"
            ]
        },
        {
            "cell_type": "code",
            "execution_count": 3,
            "metadata": {},
            "outputs": [],
            "source": [
                "# Delete the variable\n",
                "del a"
            ]
        },
        {
            "cell_type": "code",
            "execution_count": 4,
            "metadata": {},
            "outputs": [
                {
                    "name": "stdout",
                    "output_type": "stream",
                    "text": [
                        "123\n"
                    ]
                }
            ],
            "source": [
                "# Initialize a new variable with a pre-existing variable\n",
                "a = 123\n",
                "b = a\n",
                "print(b)"
            ]
        },
        {
            "cell_type": "markdown",
            "metadata": {},
            "source": [
                "### Primitive Data Types in Python\n",
                "Python supports several primitive data types:\n",
                "- int: Integer\n",
                "- float: Floating point number\n",
                "- str: String\n",
                "- bool: Boolean"
            ]
        },
        {
            "cell_type": "markdown",
            "metadata": {},
            "source": [
                "#### Numbers"
            ]
        },
        {
            "cell_type": "code",
            "execution_count": 5,
            "metadata": {},
            "outputs": [],
            "source": [
                "x = 1\n",
                "y = 2.0"
            ]
        },
        {
            "cell_type": "markdown",
            "metadata": {},
            "source": [
                "**Arithmetic Operations**\n",
                "\n",
                "| Operation       | Result                                                                      |\n",
                "|-----------------|-----------------------------------------------------------------------------|\n",
                "| x + y           | sum of x and y                                                              |\n",
                "| x - y           | difference of x and y                                                       |\n",
                "| x * y           | product of x and y                                                          |\n",
                "| x / y           | quotient of x and y                                                         |\n",
                "| x // y          | floored quotient of x and y                                                 |\n",
                "| x % y           | remainder of x / y                                                          |\n",
                "| -x              | x negated                                                                   |\n",
                "| +x              | x unchanged                                                                 |\n",
                "| abs(x)          | absolute value or magnitude of x                                            |\n",
                "| pow(x, y)       | x to the power y                                                            |\n",
                "| x ** y          | x to the power y                                                            |"
            ]
        },
        {
            "cell_type": "code",
            "execution_count": null,
            "metadata": {},
            "outputs": [],
            "source": []
        },
        {
            "cell_type": "code",
            "execution_count": null,
            "metadata": {},
            "outputs": [],
            "source": []
        },
        {
            "cell_type": "code",
            "execution_count": null,
            "metadata": {},
            "outputs": [],
            "source": []
        },
        {
            "cell_type": "markdown",
            "metadata": {},
            "source": [
                "#### String\n",
                "* Strings are textual data, and are normally written in a variety of ways:\n",
                "    * Single quotes: 'allows embedded \"double\" quotes'\n",
                "    * Double quotes: \"allows embedded 'single' quotes\"\n",
                "    * Triple quoted: '''Three single quotes''' or \"\"\"Three double quotes\"\"\"\n",
                "* Some programming languages use single quotes for literal char s, double quotes for literal String s. In Python, there isn't such distinction. You can use them in both char and String\n",
                "* You can use `\\` to escape special characters"
            ]
        },
        {
            "cell_type": "code",
            "execution_count": null,
            "metadata": {},
            "outputs": [],
            "source": [
                "x = '123'\n",
                "print(type(x))"
            ]
        },
        {
            "cell_type": "code",
            "execution_count": null,
            "metadata": {},
            "outputs": [],
            "source": [
                "x = \"allows embedded 'single' quotes\"\n",
                "print(x)"
            ]
        },
        {
            "cell_type": "code",
            "execution_count": 7,
            "metadata": {},
            "outputs": [
                {
                    "name": "stdout",
                    "output_type": "stream",
                    "text": [
                        "H\n"
                    ]
                }
            ],
            "source": [
                "# Indexing and slicing\n",
                "x = \"Hello, World!\"\n",
                "print(x[0])"
            ]
        },
        {
            "cell_type": "code",
            "execution_count": 8,
            "metadata": {},
            "outputs": [
                {
                    "data": {
                        "text/plain": [
                            "'!'"
                        ]
                    },
                    "execution_count": 8,
                    "metadata": {},
                    "output_type": "execute_result"
                }
            ],
            "source": [
                "x[-1]"
            ]
        },
        {
            "cell_type": "code",
            "execution_count": 9,
            "metadata": {},
            "outputs": [
                {
                    "data": {
                        "text/plain": [
                            "'Hello'"
                        ]
                    },
                    "execution_count": 9,
                    "metadata": {},
                    "output_type": "execute_result"
                }
            ],
            "source": [
                "x[0:5]"
            ]
        },
        {
            "cell_type": "markdown",
            "metadata": {},
            "source": [
                "\n",
                "* `+` concatenates two strings\n",
                "* `*` repeats given string a certain number of times\n",
                "* str.`lower()` and str.`upper()` change the case of strings"
            ]
        },
        {
            "cell_type": "code",
            "execution_count": 10,
            "metadata": {},
            "outputs": [
                {
                    "data": {
                        "text/plain": [
                            "'abc def'"
                        ]
                    },
                    "execution_count": 10,
                    "metadata": {},
                    "output_type": "execute_result"
                }
            ],
            "source": [
                "## concatenate strings\n",
                "x = 'abc'\n",
                "y = ' def'\n",
                "x + y"
            ]
        },
        {
            "cell_type": "code",
            "execution_count": null,
            "metadata": {},
            "outputs": [],
            "source": []
        },
        {
            "cell_type": "code",
            "execution_count": 11,
            "metadata": {},
            "outputs": [
                {
                    "data": {
                        "text/plain": [
                            "'2 plus 1 is 3'"
                        ]
                    },
                    "execution_count": 11,
                    "metadata": {},
                    "output_type": "execute_result"
                }
            ],
            "source": [
                "# String formatting\n",
                "a = 1\n",
                "b = 2\n",
                "c = a + b\n",
                "# '{} plus {} is {}'.format(b,a,c) \n",
                "'{B} plus {A} is {C}'.format(B=b,A=a,C=c) "
            ]
        },
        {
            "cell_type": "markdown",
            "metadata": {},
            "source": [
                "#### Boolean\n",
                "This built-in data type that can take up the values: `True` and `False`, which often makes them interchangeable with the integers 1 and 0. Booleans are useful in conditional and comparison expressions.\n",
                "\n",
                "| Operator                                                              | Description                                                                        |\n",
                "|-----------------------------------------------------------------------|------------------------------------------------------------------------------------|\n",
                "| or,\\|                                                                 | Boolean OR                                                                         |\n",
                "| and,\\&                                                                | Boolean AND                                                                        |\n",
                "| not x                                                                 | Boolean NOT                                                                        |"
            ]
        },
        {
            "cell_type": "code",
            "execution_count": null,
            "metadata": {},
            "outputs": [],
            "source": []
        },
        {
            "cell_type": "markdown",
            "metadata": {},
            "source": [
                "### Other data types\n",
                "- list\n",
                "- tuple\n",
                "- dictionary\n",
                "- set"
            ]
        },
        {
            "cell_type": "code",
            "execution_count": null,
            "metadata": {},
            "outputs": [],
            "source": [
                "# list\n",
                "x = [1,2,3,4,5]"
            ]
        },
        {
            "cell_type": "code",
            "execution_count": null,
            "metadata": {},
            "outputs": [],
            "source": [
                "# tuple\n",
                "y = (1,2,3,4,5)"
            ]
        },
        {
            "cell_type": "code",
            "execution_count": null,
            "metadata": {},
            "outputs": [],
            "source": [
                "# dictionary\n",
                "z = {'a': 1, 'b': 2, 'c': 3}"
            ]
        },
        {
            "cell_type": "code",
            "execution_count": null,
            "metadata": {},
            "outputs": [],
            "source": [
                "# set\n",
                "xx = set(x)"
            ]
        },
        {
            "cell_type": "markdown",
            "metadata": {},
            "source": [
                "### Functions\n",
                "Functions are defined using the `def` keyword. The `return` statement is used to return values from the function."
            ]
        },
        {
            "cell_type": "code",
            "execution_count": null,
            "metadata": {},
            "outputs": [],
            "source": [
                "def my_function():\n",
                "    print(\"Hello from a function\")"
            ]
        },
        {
            "cell_type": "markdown",
            "metadata": {},
            "source": [
                "### `Class` and `Object`\n",
                "In general\n",
                "- A `class` is a blueprint for declaring and creating objects\n",
                "- An `object` is a class instance that allows programmers to use variables and methods from inside the class\n",
                "- A class defines a set of `attributes` (`<--> properties`) and `methods` (`<--> functions`) that the objects of that class will have."
            ]
        },
        {
            "cell_type": "code",
            "execution_count": null,
            "metadata": {},
            "outputs": [],
            "source": [
                "class table:\n",
                "    def __init__(self, l, w, h):\n",
                "        self.l = l\n",
                "        self.w = w\n",
                "        self.h = h\n",
                "        self.has_a_flat_top = True\n",
                "    \n",
                "    def hold_weight(self, weight):\n",
                "        print('Holding a weight of {weight} kg')"
            ]
        },
        {
            "cell_type": "code",
            "execution_count": null,
            "metadata": {},
            "outputs": [],
            "source": []
        },
        {
            "cell_type": "markdown",
            "metadata": {},
            "source": [
                "## Data manipulation with `pandas`"
            ]
        },
        {
            "cell_type": "code",
            "execution_count": null,
            "metadata": {},
            "outputs": [],
            "source": []
        },
        {
            "cell_type": "code",
            "execution_count": null,
            "metadata": {},
            "outputs": [],
            "source": []
        },
        {
            "cell_type": "markdown",
            "metadata": {},
            "source": [
                "## Numerical operations with `numpy`"
            ]
        },
        {
            "cell_type": "code",
            "execution_count": null,
            "metadata": {},
            "outputs": [],
            "source": []
        },
        {
            "cell_type": "code",
            "execution_count": null,
            "metadata": {},
            "outputs": [],
            "source": []
        },
        {
            "cell_type": "markdown",
            "metadata": {},
            "source": [
                "## Visualization with `matplotlib`"
            ]
        },
        {
            "cell_type": "code",
            "execution_count": null,
            "metadata": {},
            "outputs": [],
            "source": []
        },
        {
            "cell_type": "code",
            "execution_count": null,
            "metadata": {},
            "outputs": [],
            "source": []
        }
    ],
    "metadata": {
        "kernelspec": {
            "display_name": ".venv",
            "language": "python",
            "name": "python3"
        },
        "language_info": {
            "codemirror_mode": {
                "name": "ipython",
                "version": 3
            },
            "file_extension": ".py",
            "mimetype": "text/x-python",
            "name": "python",
            "nbconvert_exporter": "python",
            "pygments_lexer": "ipython3",
            "version": "3.12.6"
        },
        "orig_nbformat": 4
    },
    "nbformat": 4,
    "nbformat_minor": 2
}
