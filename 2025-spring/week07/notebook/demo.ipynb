{
    "cells": [
        {
            "cell_type": "markdown",
            "metadata": {},
            "source": [
                "(**Click the icon below to open this notebook in Colab**)\n",
                "\n",
                "[![Open InColab](https://colab.research.google.com/assets/colab-badge.svg)](https://colab.research.google.com/github/xiangshiyin/machine-learning-for-actuarial-science/blob/main/2025-spring/week07/notebook/demo.ipynb)"
            ]
        },
        {
            "cell_type": "code",
            "execution_count": null,
            "metadata": {},
            "outputs": [],
            "source": []
        },
        {
            "cell_type": "markdown",
            "metadata": {},
            "source": [
                "## Time Series data - Example: S&P 500 Index"
            ]
        },
        {
            "cell_type": "code",
            "execution_count": null,
            "metadata": {},
            "outputs": [],
            "source": [
                "import yfinance as yf\n",
                "import matplotlib.pyplot as plt\n",
                "\n",
                "stock_symbol = '^GSPC'\n",
                "start_date = '2020-01-01'\n",
                "end_date = '2024-12-31'\n",
                "\n",
                "# Download historical data\n",
                "df_sp500 = yf.download(stock_symbol, start=start_date, end=end_date)\n",
                "df_sp500.head(10)"
            ]
        },
        {
            "cell_type": "code",
            "execution_count": null,
            "metadata": {},
            "outputs": [],
            "source": [
                "plt.figure(figsize=(15, 10))\n",
                "plt.plot(df_sp500['Close'], label='S&P 500')\n",
                "plt.ylabel('Price')\n",
                "plt.xlabel('Date')\n",
                "plt.legend(loc='upper left')\n",
                "plt.show()\n"
            ]
        },
        {
            "cell_type": "markdown",
            "metadata": {},
            "source": [
                "## Time Sereies Decomposition"
            ]
        },
        {
            "cell_type": "code",
            "execution_count": null,
            "metadata": {},
            "outputs": [],
            "source": [
                "import statsmodels.api as sm\n",
                "from statsmodels.tsa.seasonal import seasonal_decompose\n",
                "\n",
                "seasonal_decompose(df_sp500.Close.loc['2024-01-01':'2024-12-31'], period=5).plot()\n",
                "plt.xticks(rotation=45)\n",
                "plt.tight_layout()\n",
                "plt.show()"
            ]
        },
        {
            "cell_type": "code",
            "execution_count": null,
            "metadata": {},
            "outputs": [],
            "source": [
                "import matplotlib.pyplot as plt\n",
                "\n",
                "decomposition = seasonal_decompose(df_sp500.Close.loc['2024-01-01':'2024-12-31'], period=5)\n",
                "plt.plot(decomposition.resid, label='Residual')\n",
                "plt.legend()\n",
                "plt.show()"
            ]
        },
        {
            "cell_type": "markdown",
            "metadata": {},
            "source": [
                "### Trend"
            ]
        },
        {
            "cell_type": "markdown",
            "metadata": {},
            "source": [
                "The autocorrelation function (ACF) is a statistical tool to analyze the relationship between the current value of a time series and its lagged values.\n",
                "\n",
                "$$\n",
                "ACF(h) = \\frac{Cov(y_t, y_{t-h})}{Var(y_t)} = \\frac{\\sum_{t=h+1}^{T} (y_t - \\bar{y})(y_{t-h} - \\bar{y})}{\\sum_{t=1}^{T} (y_t - \\bar{y})^2}\n",
                "$$\n",
                "\n",
                "where:\n",
                "- $T$ is the total number of observations.\n",
                "- $y_t$ is the value of the time series at time $t$.\n",
                "- $\\bar{y}$ is the mean of the time series.\n",
                "- $h$ is the lag.\n",
                "\n",
                "Strong correlations in the ACF plot indicate that the time series has:\n",
                "- **Significant memory** (dependence on past values).\n",
                "- **Trends** (slowly decaying correlations).\n",
                "- **Seasonality** (periodic spikes at regular intervals)."
            ]
        },
        {
            "cell_type": "code",
            "execution_count": null,
            "metadata": {},
            "outputs": [],
            "source": [
                "# plot autocorrelation function(ACF)\n",
                "\n",
                "sm.graphics.tsa.plot_acf(df_sp500.Close.loc['2024-01-01':'2024-12-31'], lags=30)\n",
                "plt.xlabel('Number of Lags')\n",
                "plt.ylabel('ACF')\n",
                "plt.show()"
            ]
        },
        {
            "cell_type": "code",
            "execution_count": null,
            "metadata": {},
            "outputs": [],
            "source": []
        },
        {
            "cell_type": "markdown",
            "metadata": {},
            "source": [
                "The partial autocrelation plot (PACF) is a graphical method used to determine the order of an autoregressive (AR) model. It helps identify the significant lagged values that contribute to the behavior of the time series.\n",
                "\n",
                "$$\n",
                "PACF(h) = \\frac{Cov(y_t, y_{t-h}|y_{t-1},y_{t-2},...,y_{t-h+1})}{\\sqrt{Var(y_t|y_{t-1},y_{t-2},...,y_{t-h+1})} \\sqrt{Var(y_{t-h}|y_{t-1},y_{t-2},...,y_{t-h+1})}}\n",
                "$$\n",
                "\n",
                "Where:\n",
                "- $y_t$ is the time series at time $t$.\n",
                "- $h$ is the lag."
            ]
        },
        {
            "cell_type": "code",
            "execution_count": null,
            "metadata": {},
            "outputs": [],
            "source": [
                "# plot partial autocorrelation function (PACF)\n",
                "\n",
                "sm.graphics.tsa.plot_pacf(df_sp500.Close.loc['2024-01-01':'2024-12-31'], lags=30)\n",
                "plt.xlabel('Number of Lags')\n",
                "plt.ylabel('PACF')\n",
                "plt.show()"
            ]
        },
        {
            "cell_type": "markdown",
            "metadata": {},
            "source": [
                "### Seasonality"
            ]
        },
        {
            "cell_type": "markdown",
            "metadata": {},
            "source": [
                "#### S&P 500"
            ]
        },
        {
            "cell_type": "code",
            "execution_count": null,
            "metadata": {},
            "outputs": [],
            "source": [
                "## plot YOY trend\n",
                "\n",
                "df2 = df_sp500.Close.copy()\n",
                "df2.columns = ['GSPC']\n",
                "df2['Year'] = df2.index.year\n",
                "df2['DayOfYear'] = df2.index.dayofyear\n",
                "df2.head(3)"
            ]
        },
        {
            "cell_type": "code",
            "execution_count": null,
            "metadata": {},
            "outputs": [],
            "source": [
                "df2_yoy = df2.pivot(index='DayOfYear', columns='Year', values='GSPC')\n",
                "df2_yoy.head(3)"
            ]
        },
        {
            "cell_type": "code",
            "execution_count": null,
            "metadata": {},
            "outputs": [],
            "source": [
                "plt.figure(figsize=(12, 6))\n",
                "for year in df2_yoy.columns:\n",
                "    plt.plot(df2_yoy.index, df2_yoy[year], label=year)\n",
                "plt.legend()\n",
                "plt.title('YoY Trend of SP500 Index')\n",
                "plt.xlabel('Day of Year')\n",
                "plt.ylabel('SP500 Index')\n",
                "plt.grid()\n",
                "plt.show()"
            ]
        },
        {
            "cell_type": "code",
            "execution_count": null,
            "metadata": {},
            "outputs": [],
            "source": [
                "df3 = df_sp500.Close.copy().rename(columns={'^GSPC': 'GSPC'})\n",
                "df3['Year'] = df3.index.year\n",
                "df3['Week'] = df3.index.isocalendar().week\n",
                "df3.head(3)"
            ]
        },
        {
            "cell_type": "code",
            "execution_count": null,
            "metadata": {},
            "outputs": [],
            "source": [
                "df3_weekly = df3.groupby(['Year', 'Week'])['GSPC'].mean().reset_index()\n",
                "df3_weekly.head(3)"
            ]
        },
        {
            "cell_type": "code",
            "execution_count": null,
            "metadata": {},
            "outputs": [],
            "source": [
                "df3_weekly_yoy = df3_weekly.pivot(index='Week', columns='Year', values='GSPC')\n",
                "df3_weekly_yoy.head(3)"
            ]
        },
        {
            "cell_type": "code",
            "execution_count": null,
            "metadata": {},
            "outputs": [],
            "source": [
                "plt.figure(figsize=(12, 6))\n",
                "for year in df3_weekly_yoy.columns:\n",
                "    plt.plot(df3_weekly_yoy.index, df3_weekly_yoy[year], label=year)\n",
                "plt.legend()\n",
                "plt.title('YoY Trend of SP500 Index')\n",
                "plt.xlabel('Month of Year')\n",
                "plt.ylabel('SP500 Index')\n",
                "plt.grid()\n",
                "plt.show()"
            ]
        },
        {
            "cell_type": "code",
            "execution_count": null,
            "metadata": {},
            "outputs": [],
            "source": [
                "# plot autocorrelation function(ACF)\n",
                "\n",
                "sm.graphics.tsa.plot_acf(df3.GSPC, lags=720)\n",
                "plt.xlabel('Number of Lags')\n",
                "plt.ylabel('ACF')\n",
                "plt.show()"
            ]
        },
        {
            "cell_type": "code",
            "execution_count": null,
            "metadata": {},
            "outputs": [],
            "source": [
                "# plot autocorrelation function(ACF)\n",
                "\n",
                "sm.graphics.tsa.plot_acf(df3_weekly.GSPC, lags=120)\n",
                "plt.xlabel('Number of Lags')\n",
                "plt.ylabel('ACF')\n",
                "plt.show()"
            ]
        },
        {
            "cell_type": "code",
            "execution_count": null,
            "metadata": {},
            "outputs": [],
            "source": []
        },
        {
            "cell_type": "markdown",
            "metadata": {},
            "source": [
                "#### AAPL"
            ]
        },
        {
            "cell_type": "code",
            "execution_count": null,
            "metadata": {},
            "outputs": [],
            "source": [
                "stock_symbol = 'AAPL'\n",
                "start_date = '2020-01-01'\n",
                "end_date = '2024-12-31'\n",
                "\n",
                "# Download historical data\n",
                "df_aapl = yf.download(stock_symbol, start=start_date, end=end_date).Close\n",
                "df_aapl.head(10)"
            ]
        },
        {
            "cell_type": "code",
            "execution_count": null,
            "metadata": {},
            "outputs": [],
            "source": [
                "df_aapl['Year'] = df_aapl.index.year\n",
                "df_aapl['DayOfYear'] = df_aapl.index.dayofyear\n",
                "\n",
                "df_aapl.head(3)"
            ]
        },
        {
            "cell_type": "code",
            "execution_count": 18,
            "metadata": {},
            "outputs": [],
            "source": [
                "df_aapl_yoy = df_aapl.pivot(index='DayOfYear', columns='Year', values='AAPL')"
            ]
        },
        {
            "cell_type": "code",
            "execution_count": null,
            "metadata": {},
            "outputs": [],
            "source": [
                "plt.figure(figsize=(12, 6))\n",
                "for year in df_aapl_yoy.columns:\n",
                "    plt.plot(df_aapl_yoy.index, df_aapl_yoy[year], label=year)\n",
                "plt.legend()\n",
                "plt.title('YoY Trend of SP500 Index')\n",
                "plt.xlabel('Day of Year')\n",
                "plt.ylabel('SP500 Index')\n",
                "plt.grid()\n",
                "plt.show()"
            ]
        },
        {
            "cell_type": "code",
            "execution_count": null,
            "metadata": {},
            "outputs": [],
            "source": [
                "df_aapl.head(3)"
            ]
        },
        {
            "cell_type": "code",
            "execution_count": null,
            "metadata": {},
            "outputs": [],
            "source": [
                "# plot autocorrelation function(ACF)\n",
                "\n",
                "sm.graphics.tsa.plot_acf(df_aapl.AAPL, lags=720)\n",
                "plt.xlabel('Number of Lags')\n",
                "plt.ylabel('ACF')\n",
                "plt.show()"
            ]
        },
        {
            "cell_type": "markdown",
            "metadata": {},
            "source": [
                "# Classical Methods"
            ]
        },
        {
            "cell_type": "code",
            "execution_count": null,
            "metadata": {},
            "outputs": [],
            "source": [
                "import datetime\n",
                "\n",
                "ticker = ['AAPL', 'MSFT']\n",
                "start = datetime.datetime(2019, 1, 1)\n",
                "end = datetime.datetime(2021, 1, 1)\n",
                "stock_prices = yf.download(ticker, start, end, interval='1d').Close"
            ]
        },
        {
            "cell_type": "code",
            "execution_count": null,
            "metadata": {},
            "outputs": [],
            "source": [
                "stock_prices.head(3)"
            ]
        },
        {
            "cell_type": "code",
            "execution_count": null,
            "metadata": {},
            "outputs": [],
            "source": [
                "import matplotlib.pyplot as plt\n",
                "\n",
                "plt.plot(stock_prices.AAPL, label='AAPL')\n",
                "plt.plot(stock_prices.MSFT, label='MSFT')\n",
                "plt.legend()\n",
                "plt.show()"
            ]
        },
        {
            "cell_type": "markdown",
            "metadata": {},
            "source": [
                "## Stationary Assumption\n",
                "\n",
                "Classical time series models typically assume that the underlying data is stationary. Stationarity describes that the time-series has\n",
                "- Constant mean and mean is not time-dependent\n",
                "- Constant variance and variance is not time-dependent\n",
                "- Constant covariance and covariance is not time-dependent\n",
                "\n",
                "![](https://towardsdatascience.com/wp-content/uploads/2023/04/10vp3L0WZV_HkqS53H6skjg.png)"
            ]
        },
        {
            "cell_type": "markdown",
            "metadata": {},
            "source": [
                "**[Augmented Dickey-Fuller (ADF) test](https://en.wikipedia.org/wiki/Augmented_Dickey%E2%80%93Fuller_test)**: If the p-value is low (< 0.05), the series is stationary."
            ]
        },
        {
            "cell_type": "code",
            "execution_count": 25,
            "metadata": {},
            "outputs": [],
            "source": [
                "from statsmodels.tsa.stattools import adfuller\n",
                "\n",
                "# ADF Test for stationarity\n",
                "def adf_test(series):\n",
                "    result = adfuller(series)\n",
                "    print(f\"ADF Statistic: {result[0]}\")\n",
                "    print(f\"p-value: {result[1]}\")\n",
                "    if result[1] < 0.05:\n",
                "        print(\"The series is stationary.\")\n",
                "    else:\n",
                "        print(\"The series is non-stationary.\")"
            ]
        },
        {
            "cell_type": "code",
            "execution_count": null,
            "metadata": {},
            "outputs": [],
            "source": [
                "plt.plot(stock_prices.AAPL, label='AAPL')\n",
                "plt.axhline(y=stock_prices.AAPL.mean(), color='black', linestyle='--', label='Mean')\n",
                "plt.legend()\n",
                "plt.show()"
            ]
        },
        {
            "cell_type": "code",
            "execution_count": null,
            "metadata": {},
            "outputs": [],
            "source": []
        },
        {
            "cell_type": "code",
            "execution_count": null,
            "metadata": {},
            "outputs": [],
            "source": [
                "print(f\"Testing the stationarity of the AAPL stock price\")\n",
                "adf_test(stock_prices.AAPL)\n",
                "print(f\"Testing the stationarity of the MSFT stock price\")\n",
                "adf_test(stock_prices.MSFT)"
            ]
        },
        {
            "cell_type": "code",
            "execution_count": null,
            "metadata": {},
            "outputs": [],
            "source": []
        },
        {
            "cell_type": "code",
            "execution_count": null,
            "metadata": {},
            "outputs": [],
            "source": [
                "print(f\"Testing the stationarity of the AAPL stock price with difference transformation\")\n",
                "adf_test(stock_prices.AAPL.diff().dropna())\n",
                "print(f\"Testing the stationarity of the MSFT stock price with difference transformation\")\n",
                "adf_test(stock_prices.MSFT.diff().dropna())"
            ]
        },
        {
            "cell_type": "code",
            "execution_count": null,
            "metadata": {},
            "outputs": [],
            "source": []
        },
        {
            "cell_type": "code",
            "execution_count": null,
            "metadata": {},
            "outputs": [],
            "source": [
                "diff_aapl = stock_prices.AAPL.diff().dropna()\n",
                "\n",
                "plt.plot(diff_aapl, label='AAPL')\n",
                "plt.axhline(y=diff_aapl.mean(), color='black', linestyle='--', label='Mean')\n",
                "plt.legend()\n",
                "plt.show()"
            ]
        },
        {
            "cell_type": "code",
            "execution_count": null,
            "metadata": {},
            "outputs": [],
            "source": [
                "sm.graphics.tsa.plot_acf(diff_aapl, lags=30)\n",
                "plt.xlabel('Number of Lags')\n",
                "plt.ylabel('ACF')\n",
                "plt.show()"
            ]
        },
        {
            "cell_type": "code",
            "execution_count": null,
            "metadata": {},
            "outputs": [],
            "source": []
        },
        {
            "cell_type": "markdown",
            "metadata": {},
            "source": [
                "## Moving Average Model"
            ]
        },
        {
            "cell_type": "code",
            "execution_count": 31,
            "metadata": {},
            "outputs": [],
            "source": [
                "diff_stock_prices = stock_prices.diff().dropna()\n",
                "split = int(len(diff_stock_prices['AAPL'].values) * 0.95)\n",
                "diff_train_aapl = diff_stock_prices['AAPL'].iloc[:split]\n",
                "diff_test_aapl = diff_stock_prices['AAPL'].iloc[split:]\n",
                "diff_train_msft = diff_stock_prices['MSFT'].iloc[:split]\n",
                "diff_test_msft = diff_stock_prices['MSFT'].iloc[split:]"
            ]
        },
        {
            "cell_type": "code",
            "execution_count": null,
            "metadata": {},
            "outputs": [],
            "source": [
                "fig, ax = plt.subplots(2, 1, figsize=(10, 6))\n",
                "plt.tight_layout() \n",
                "sm.graphics.tsa.plot_acf(diff_train_aapl,lags=30,\n",
                "                         ax=ax[0], title='ACF - Apple')\n",
                "sm.graphics.tsa.plot_acf(diff_train_msft,lags=30,\n",
                "                         ax=ax[1], title='ACF - Microsoft')\n",
                "plt.show()"
            ]
        },
        {
            "cell_type": "markdown",
            "metadata": {},
            "source": [
                "We can see that there are significant spikes at some lags and, therefore, we’ll choose lag 9 for the short MA model and 22 for the long MA for Apple. These imply that an order of 9 will be our short-term order and 22 will be our long-term order in modeling MA"
            ]
        },
        {
            "cell_type": "code",
            "execution_count": null,
            "metadata": {},
            "outputs": [],
            "source": [
                "short_moving_average_appl = diff_train_aapl.rolling(window=9).mean()\n",
                "long_moving_average_appl = diff_train_aapl.rolling(window=22).mean()\n",
                "\n",
                "fig, ax = plt.subplots(figsize=(10, 6))\n",
                "ax.plot(diff_train_aapl.loc[start:end].index, \n",
                "        diff_train_aapl.loc[start:end],\n",
                "        label='Stock Price', linestyle='--')\n",
                "ax.plot(short_moving_average_appl.loc[start:end].index, \n",
                "        short_moving_average_appl.loc[start:end],\n",
                "        label = 'Short MA', linestyle='solid')\n",
                "ax.plot(long_moving_average_appl.loc[start:end].index, \n",
                "        long_moving_average_appl.loc[start:end],\n",
                "        label = 'Long MA', linestyle='solid')\n",
                "ax.legend(loc='best')\n",
                "ax.set_ylabel('Differenced Price')\n",
                "ax.set_title('Stock Prediction-Apple')\n",
                "plt.show()"
            ]
        },
        {
            "cell_type": "markdown",
            "metadata": {},
            "source": [
                "The short-term MA tends to be more responsive to daily changes in Apple’s stock price compared to the long-term MA. This makes sense because taking into account a long MA generates smoother predictions."
            ]
        },
        {
            "cell_type": "code",
            "execution_count": null,
            "metadata": {},
            "outputs": [],
            "source": []
        },
        {
            "cell_type": "code",
            "execution_count": null,
            "metadata": {},
            "outputs": [],
            "source": [
                "short_moving_average_msft = diff_train_msft.rolling(window=2).mean()\n",
                "long_moving_average_msft = diff_train_msft.rolling(window=22).mean()\n",
                "\n",
                "fig, ax = plt.subplots(figsize=(10, 6))\n",
                "ax.plot(diff_train_msft.loc[start:end].index,\n",
                "        diff_train_msft.loc[start:end],\n",
                "        label='Stock Price', linestyle='--')\n",
                "ax.plot(short_moving_average_msft.loc[start:end].index,\n",
                "        short_moving_average_msft.loc[start:end],\n",
                "        label = 'Short MA', linestyle='solid')\n",
                "ax.plot(long_moving_average_msft.loc[start:end].index,\n",
                "        long_moving_average_msft.loc[start:end],\n",
                "        label = 'Long MA', linestyle='-.')\n",
                "ax.legend(loc='best')\n",
                "ax.set_ylabel('Differenced Price')\n",
                "ax.set_xlabel('Date')\n",
                "ax.set_title('Stock Prediction-Microsoft')\n",
                "plt.show()"
            ]
        },
        {
            "cell_type": "markdown",
            "metadata": {},
            "source": [
                "## Autoregressive Model"
            ]
        },
        {
            "cell_type": "code",
            "execution_count": null,
            "metadata": {},
            "outputs": [],
            "source": [
                "sm.graphics.tsa.plot_pacf(diff_train_aapl, lags=30)\n",
                "plt.title('PACF of Apple')\n",
                "plt.xlabel('Number of Lags')\n",
                "plt.show()"
            ]
        },
        {
            "cell_type": "code",
            "execution_count": null,
            "metadata": {},
            "outputs": [],
            "source": [
                "sm.graphics.tsa.plot_pacf(diff_train_msft, lags=30)\n",
                "plt.title('PACF of Microsoft')\n",
                "plt.xlabel('Number of Lags')\n",
                "plt.show()"
            ]
        },
        {
            "cell_type": "code",
            "execution_count": 37,
            "metadata": {},
            "outputs": [],
            "source": [
                "from statsmodels.tsa.ar_model import AutoReg\n",
                "\n",
                "ar_aapl = AutoReg(diff_train_aapl.values, lags=29)\n",
                "ar_fitted_aapl = ar_aapl.fit()"
            ]
        },
        {
            "cell_type": "code",
            "execution_count": 38,
            "metadata": {},
            "outputs": [],
            "source": [
                "ar_predictions_aapl = ar_fitted_aapl.predict(start=len(diff_train_aapl), \n",
                "                                             end=len(diff_train_aapl)\\\n",
                "                                             + len(diff_test_aapl) - 1, \n",
                "                                             dynamic=False)"
            ]
        },
        {
            "cell_type": "code",
            "execution_count": null,
            "metadata": {},
            "outputs": [],
            "source": [
                "for i in range(len(ar_predictions_aapl)):\n",
                "    print('==' * 25)\n",
                "    print('predicted values:{:.4f} & actual values:{:.4f}'\\\n",
                "          .format(ar_predictions_aapl[i], diff_test_aapl[i]))"
            ]
        },
        {
            "cell_type": "code",
            "execution_count": 40,
            "metadata": {},
            "outputs": [],
            "source": [
                "import pandas as pd\n",
                "\n",
                "ar_predictions_aapl = pd.DataFrame(ar_predictions_aapl)\n",
                "ar_predictions_aapl.index = diff_test_aapl.index"
            ]
        },
        {
            "cell_type": "code",
            "execution_count": 41,
            "metadata": {},
            "outputs": [],
            "source": [
                "ar_msft = AutoReg(diff_train_msft.values, lags=26)\n",
                "ar_fitted_msft = ar_msft.fit()\n",
                "\n",
                "ar_predictions_msft = ar_fitted_msft.predict(start=len(diff_train_msft), \n",
                "                                             end=len(diff_train_msft)\\\n",
                "                                             +len(diff_test_msft) - 1,\n",
                "                                             dynamic=False)\n",
                "\n",
                "ar_predictions_msft = pd.DataFrame(ar_predictions_msft)\n",
                "ar_predictions_msft.index = diff_test_msft.index"
            ]
        },
        {
            "cell_type": "code",
            "execution_count": null,
            "metadata": {},
            "outputs": [],
            "source": [
                "fig, ax = plt.subplots(2,1, figsize=(18, 15))\n",
                " \n",
                "ax[0].plot(diff_test_aapl, label='Actual Stock Price', linestyle='--')\n",
                "ax[0].plot(ar_predictions_aapl, linestyle='solid', label=\"Prediction\")\n",
                "ax[0].set_title('Predicted Stock Price-Apple')\n",
                "ax[0].legend(loc='best')\n",
                "ax[1].plot(diff_test_msft, label='Actual Stock Price', linestyle='--')\n",
                "ax[1].plot(ar_predictions_msft, linestyle='solid', label=\"Prediction\")\n",
                "ax[1].set_title('Predicted Stock Price-Microsoft')\n",
                "ax[1].legend(loc='best')\n",
                "for ax in ax.flat:\n",
                "    ax.set(xlabel='Date', ylabel='Differenced Price')\n",
                "plt.show()"
            ]
        },
        {
            "cell_type": "markdown",
            "metadata": {},
            "source": [
                "## Autoregressive Integrated Moving Average Model"
            ]
        },
        {
            "cell_type": "code",
            "execution_count": 44,
            "metadata": {},
            "outputs": [],
            "source": []
        },
        {
            "cell_type": "code",
            "execution_count": null,
            "metadata": {},
            "outputs": [],
            "source": [
                "adf_test(stock_prices.AAPL)"
            ]
        },
        {
            "cell_type": "code",
            "execution_count": null,
            "metadata": {},
            "outputs": [],
            "source": [
                "adf_test(stock_prices.MSFT)"
            ]
        },
        {
            "cell_type": "code",
            "execution_count": null,
            "metadata": {},
            "outputs": [],
            "source": []
        },
        {
            "cell_type": "code",
            "execution_count": null,
            "metadata": {},
            "outputs": [],
            "source": [
                "from statsmodels.tsa.arima.model import ARIMA\n",
                "\n",
                "aapl = stock_prices['AAPL']\n",
                "size_test = int(len(aapl) * 0.05)\n",
                "print(size_test)\n",
                "\n",
                "train_aapl = aapl[:-size_test]\n",
                "test_aapl = aapl[-size_test:]\n",
                "diff_aapl_full = aapl.diff().dropna()\n",
                "diff_train_aapl = train_aapl.diff().dropna()\n",
                "\n",
                "arima_aapl = ARIMA(train_aapl,order=(9, 1, 9))\n",
                "arima_fit_aapl = arima_aapl.fit()\n",
                "arima_pred_aapl = arima_fit_aapl.forecast(steps=size_test)\n",
                "arima_pred_aapl.index = test_aapl.index\n",
                "\n",
                "fig, ax = plt.subplots(figsize=(18, 15))\n",
                "ax.plot(aapl[-size_test:], label='Actual Stock Price', linestyle='--')\n",
                "ax.plot(arima_pred_aapl, linestyle='solid', label=\"Prediction\")\n",
                "ax.set_title('Predicted Stock Price-Apple')\n",
                "ax.legend(loc='best')\n",
                "ax.set(xlabel='Date', ylabel='Differenced Price')\n",
                "plt.show()"
            ]
        },
        {
            "cell_type": "code",
            "execution_count": null,
            "metadata": {},
            "outputs": [],
            "source": [
                "test_aapl.head(3)"
            ]
        },
        {
            "cell_type": "code",
            "execution_count": null,
            "metadata": {},
            "outputs": [],
            "source": [
                "fig, ax = plt.subplots(figsize=(18, 15))\n",
                "ax.plot(aapl, label='Actual Stock Price', linestyle='--')\n",
                "ax.plot(pd.concat([train_aapl, arima_pred_aapl],axis=0), linestyle='solid', label=\"Prediction\")\n",
                "ax.set_title('Predicted Stock Price-Apple')\n",
                "ax.legend(loc='best')\n",
                "ax.set(xlabel='Date', ylabel='Differenced Price')\n",
                "plt.show()"
            ]
        },
        {
            "cell_type": "code",
            "execution_count": 50,
            "metadata": {},
            "outputs": [],
            "source": [
                "# import itertools\n",
                "# p = q = range(0, 9)\n",
                "# d = range(0, 3)\n",
                "# pdq = list(itertools.product(p, d, q))\n",
                "# arima_results_aapl = []\n",
                "# for param_set in pdq:\n",
                "#     try:\n",
                "#         arima_aapl = ARIMA(diff_train_aapl, order=param_set)\n",
                "#         arima_fitted_aapl = arima_aapl.fit()\n",
                "#         arima_results_aapl.append(arima_fitted_aapl.aic)\n",
                "#     except:\n",
                "#         continue\n",
                "# print('**'*25)\n",
                "# print('The Lowest AIC score is {:.4f} and the corresponding parameters are {}'\n",
                "#       .format(pd.DataFrame(arima_results_aapl)\n",
                "#              .where(pd.DataFrame(arima_results_aapl).T.notnull().all()).min()[0], \n",
                "#              pdq[arima_results_aapl.index(min(arima_results_aapl))]))"
            ]
        },
        {
            "cell_type": "code",
            "execution_count": null,
            "metadata": {},
            "outputs": [],
            "source": [
                "arima_fit_aapl.summary()"
            ]
        },
        {
            "cell_type": "code",
            "execution_count": null,
            "metadata": {},
            "outputs": [],
            "source": []
        },
        {
            "cell_type": "markdown",
            "metadata": {},
            "source": [
                "AIC vs. BIC\n",
                "\n",
                "## **1️⃣ Akaike Information Criterion (AIC)**  \n",
                "$$\n",
                "AIC = -2 ln(L) + 2k\n",
                "$$\n",
                "Where:  \n",
                "- L = Maximum likelihood of the model  \n",
                "- k = Number of estimated parameters in the model  \n",
                "- -2 ln(L) = Measures model fit (lower is better)  \n",
                "- 2k = Penalizes complexity (more parameters increase AIC)  \n",
                "\n",
                "---\n",
                "\n",
                "## **2️⃣ Bayesian Information Criterion (BIC)**  \n",
                "$$\n",
                "BIC = -2 ln(L) + k ln(n)\n",
                "$$\n",
                "Where:  \n",
                "- n = Number of observations (sample size)  \n",
                "- k = Number of parameters  \n",
                "- ln(n) grows with larger samples → **Stronger penalty for complexity**  \n",
                "\n",
                "---\n",
                "\n",
                "## **3️⃣ Comparison of AIC vs. BIC**\n",
                "| Criterion | Formula | Penalization for Complexity |\n",
                "|-----------|---------|---------------------------|\n",
                "| **AIC** | -2 ln(L) + 2k | **Less strict** (penalty = 2k) |\n",
                "| **BIC** | -2 ln(L) + k ln(n) | **Stronger penalty** (depends on sample size n) |\n",
                "\n",
                "🔹 **AIC prefers models with better fit** but allows more complexity.  \n",
                "🔹 **BIC prefers simpler models**, especially for larger datasets."
            ]
        },
        {
            "cell_type": "code",
            "execution_count": null,
            "metadata": {},
            "outputs": [],
            "source": []
        },
        {
            "cell_type": "code",
            "execution_count": null,
            "metadata": {},
            "outputs": [],
            "source": [
                "from sklearn.metrics import mean_absolute_error, mean_squared_error\n",
                "import numpy as np\n",
                "\n",
                "score_mae = mean_absolute_error(test_aapl, arima_pred_aapl)\n",
                "score_rmse = np.sqrt(mean_squared_error(test_aapl, arima_pred_aapl))\n",
                "\n",
                "print(\"MAE: \", score_mae)\n",
                "print(\"RMSE: \", score_rmse)"
            ]
        },
        {
            "cell_type": "code",
            "execution_count": null,
            "metadata": {},
            "outputs": [],
            "source": []
        },
        {
            "cell_type": "code",
            "execution_count": null,
            "metadata": {},
            "outputs": [],
            "source": [
                "train_aapl.head(3)"
            ]
        },
        {
            "cell_type": "code",
            "execution_count": null,
            "metadata": {},
            "outputs": [],
            "source": []
        },
        {
            "cell_type": "markdown",
            "metadata": {},
            "source": [
                "# Machine Learning Approaches"
            ]
        },
        {
            "cell_type": "markdown",
            "metadata": {},
            "source": [
                "## Prophet\n",
                "\n",
                "Facebook's Prophet is an open-source time series forecasting tool designed for automatic forecasting with minimal manual tuning. It is particularly useful for business and economic time series data with strong seasonality and holiday effects."
            ]
        },
        {
            "cell_type": "code",
            "execution_count": null,
            "metadata": {},
            "outputs": [],
            "source": [
                "df_train_aapl = train_aapl.reset_index().rename(columns={'Date': 'ds', 'AAPL': 'y'})\n",
                "df_train_aapl.head(5)"
            ]
        },
        {
            "cell_type": "code",
            "execution_count": null,
            "metadata": {},
            "outputs": [],
            "source": [
                "from sklearn.metrics import mean_absolute_error, mean_squared_error\n",
                "import math\n",
                "\n",
                "from prophet import Prophet\n",
                "\n",
                "\n",
                "# Train the model\n",
                "model = Prophet()\n",
                "model.fit(df_train_aapl)\n",
                "\n",
                "size = 37\n",
                "x_valid = model.make_future_dataframe(periods=size, freq='d')\n",
                "\n",
                "# Predict on valid set\n",
                "y_pred = model.predict(x_valid)\n",
                "\n",
                "# Calcuate metrics\n",
                "df_test_aapl = test_aapl.reset_index().rename(columns={'Date': 'ds', 'AAPL': 'y'})\n",
                "df_y_pred = y_pred.tail(size)[['ds', 'yhat']]\n",
                "df_combo = pd.merge(df_test_aapl, df_y_pred, on='ds', how='inner')\n",
                "\n",
                "score_mae = mean_absolute_error(df_combo.y, df_combo.yhat)\n",
                "score_rmse = math.sqrt(mean_squared_error(df_combo.y, df_combo.yhat))\n",
                "\n",
                "print(\"MAE: \", score_mae)\n",
                "print(\"RMSE: \", score_rmse)"
            ]
        },
        {
            "cell_type": "code",
            "execution_count": null,
            "metadata": {},
            "outputs": [],
            "source": [
                "# Plot the forecast\n",
                "f, ax = plt.subplots(1)\n",
                "f.set_figheight(6)\n",
                "f.set_figwidth(15)\n",
                "\n",
                "model.plot(y_pred, ax=ax)\n",
                "plt.plot(test_aapl, label=\"Test set\", color=\"orange\")\n",
                "plt.legend()\n",
                "plt.show()"
            ]
        },
        {
            "cell_type": "markdown",
            "metadata": {},
            "source": [
                "## From a `time series` problem to a `supervised` problem\n",
                "\n"
            ]
        },
        {
            "cell_type": "code",
            "execution_count": null,
            "metadata": {},
            "outputs": [],
            "source": [
                "from pandas import DataFrame\n",
                "df = DataFrame()\n",
                "df['t'] = [x for x in range(10)]\n",
                "print(df)"
            ]
        },
        {
            "cell_type": "code",
            "execution_count": null,
            "metadata": {},
            "outputs": [],
            "source": [
                "from pandas import DataFrame\n",
                "df = DataFrame()\n",
                "df['t'] = [x for x in range(10)]\n",
                "df['t-1'] = df['t'].shift(1)\n",
                "print(df)"
            ]
        },
        {
            "cell_type": "code",
            "execution_count": null,
            "metadata": {},
            "outputs": [],
            "source": [
                "\n",
                "from pandas import DataFrame\n",
                "df = DataFrame()\n",
                "df['t'] = [x for x in range(10)]\n",
                "df['t+1'] = df['t'].shift(-1)\n",
                "print(df)"
            ]
        },
        {
            "cell_type": "code",
            "execution_count": 58,
            "metadata": {},
            "outputs": [],
            "source": [
                "from pandas import DataFrame\n",
                "from pandas import concat\n",
                " \n",
                "def series_to_supervised(data, n_in=1, n_out=1, dropnan=True):\n",
                "\t\"\"\"\n",
                "\tFrame a time series as a supervised learning dataset.\n",
                "\tArguments:\n",
                "\t\tdata: Sequence of observations as a list or NumPy array.\n",
                "\t\tn_in: Number of lag observations as input (X).\n",
                "\t\tn_out: Number of observations as output (y).\n",
                "\t\tdropnan: Boolean whether or not to drop rows with NaN values.\n",
                "\tReturns:\n",
                "\t\tPandas DataFrame of series framed for supervised learning.\n",
                "\t\"\"\"\n",
                "\tn_vars = 1 if type(data) is list else data.shape[1]\n",
                "\tdf = DataFrame(data)\n",
                "\tcols, names = list(), list()\n",
                "\t# input sequence (t-n, ... t-1)\n",
                "\tfor i in range(n_in, 0, -1):\n",
                "\t\tcols.append(df.shift(i))\n",
                "\t\tnames += [('var%d(t-%d)' % (j+1, i)) for j in range(n_vars)]\n",
                "\t# forecast sequence (t, t+1, ... t+n)\n",
                "\tfor i in range(0, n_out):\n",
                "\t\tcols.append(df.shift(-i))\n",
                "\t\tif i == 0:\n",
                "\t\t\tnames += [('var%d(t)' % (j+1)) for j in range(n_vars)]\n",
                "\t\telse:\n",
                "\t\t\tnames += [('var%d(t+%d)' % (j+1, i)) for j in range(n_vars)]\n",
                "\t# put it all together\n",
                "\tagg = concat(cols, axis=1)\n",
                "\tagg.columns = names\n",
                "\t# drop rows with NaN values\n",
                "\tif dropnan:\n",
                "\t\tagg.dropna(inplace=True)\n",
                "\treturn agg"
            ]
        },
        {
            "cell_type": "code",
            "execution_count": null,
            "metadata": {},
            "outputs": [],
            "source": [
                "values = [x for x in range(10)]\n",
                "data = series_to_supervised(values)\n",
                "print(data)"
            ]
        },
        {
            "cell_type": "code",
            "execution_count": null,
            "metadata": {},
            "outputs": [],
            "source": [
                "values = [x for x in range(10)]\n",
                "data = series_to_supervised(values, n_in=3)\n",
                "print(data)"
            ]
        },
        {
            "cell_type": "code",
            "execution_count": null,
            "metadata": {},
            "outputs": [],
            "source": [
                "values = [x for x in range(10)]\n",
                "data = series_to_supervised(values, n_out=3)\n",
                "print(data)"
            ]
        },
        {
            "cell_type": "markdown",
            "metadata": {},
            "source": [
                "### Example: AAPL - Random Forest"
            ]
        },
        {
            "cell_type": "code",
            "execution_count": null,
            "metadata": {},
            "outputs": [],
            "source": [
                "aapl.head(3)"
            ]
        },
        {
            "cell_type": "code",
            "execution_count": null,
            "metadata": {},
            "outputs": [],
            "source": [
                "data = aapl.reset_index().rename(columns={'Date':'ds', 'AAPL':'y'})\n",
                "data = data.set_index('ds')\n",
                "data.head(3)"
            ]
        },
        {
            "cell_type": "code",
            "execution_count": 64,
            "metadata": {},
            "outputs": [],
            "source": [
                "# x = data['y'].shift(6).rolling(window=19).mean().dropna()\n",
                "# x.head(5)"
            ]
        },
        {
            "cell_type": "code",
            "execution_count": null,
            "metadata": {},
            "outputs": [],
            "source": [
                "data.shape"
            ]
        },
        {
            "cell_type": "code",
            "execution_count": null,
            "metadata": {},
            "outputs": [],
            "source": [
                "for i in range(6, 25):\n",
                "    data[f'lag_{i}'] = data['y'].shift(i)\n",
                "\n",
                "data['hour'] = data.index.hour\n",
                "data['weekday'] = data.index.weekday\n",
                "data = data.dropna()\n",
                "\n",
                "data.head(3)"
            ]
        },
        {
            "cell_type": "code",
            "execution_count": 67,
            "metadata": {},
            "outputs": [],
            "source": [
                "# pd.set_option('display.max_rows', None)\n",
                "pd.set_option('display.max_columns', None)"
            ]
        },
        {
            "cell_type": "code",
            "execution_count": null,
            "metadata": {},
            "outputs": [],
            "source": [
                "data.head(3)"
            ]
        },
        {
            "cell_type": "code",
            "execution_count": null,
            "metadata": {},
            "outputs": [],
            "source": [
                "lag_cols = [col for col in data.columns if 'lag' in col]\n",
                "data['rolling_mean'] = data[lag_cols].mean(axis=1)\n",
                "\n",
                "# extract out the features and labels into separate variables\n",
                "y = data['y'].values\n",
                "data2 = data.drop('y', axis=1)\n",
                "\n",
                "X = data2.values\n",
                "feature_names = data2.columns\n",
                "print('dimension: ', X.shape)\n",
                "data2.head(3)"
            ]
        },
        {
            "cell_type": "code",
            "execution_count": 70,
            "metadata": {},
            "outputs": [],
            "source": [
                "def train_test_split(X, y, test_size):\n",
                "    \"\"\"Perform train-test split with respect to time series structure.\"\"\"\n",
                "    test_index = int(len(X) * (1 - test_size))\n",
                "    X_train = X[:test_index]\n",
                "    X_test = X[test_index:]\n",
                "    y_train = y[:test_index]\n",
                "    y_test = y[test_index:]\n",
                "    return X_train, X_test, y_train, y_test"
            ]
        },
        {
            "cell_type": "code",
            "execution_count": 71,
            "metadata": {},
            "outputs": [],
            "source": [
                "test_size = 0.05\n",
                "X_train, X_test, y_train, y_test = train_test_split(X, y, test_size)"
            ]
        },
        {
            "cell_type": "code",
            "execution_count": null,
            "metadata": {},
            "outputs": [],
            "source": [
                "from sklearn.ensemble import RandomForestRegressor\n",
                "\n",
                "rfr = RandomForestRegressor(n_estimators=200)\n",
                "rfr.fit(X_train, y_train)\n",
                "prediction = rfr.predict(X_test)\n",
                "\n",
                "score_mae = mean_absolute_error(y_test, prediction)\n",
                "score_rmse = np.sqrt(mean_squared_error(y_test, prediction))\n",
                "\n",
                "print(\"MAE: \", score_mae)\n",
                "print(\"RMSE: \", score_rmse)"
            ]
        },
        {
            "cell_type": "code",
            "execution_count": 73,
            "metadata": {},
            "outputs": [],
            "source": [
                "def mean_absolute_percentage_error(y_true, y_pred):\n",
                "    return np.mean(np.abs((y_true - y_pred) / y_true)) * 100"
            ]
        },
        {
            "cell_type": "code",
            "execution_count": null,
            "metadata": {},
            "outputs": [],
            "source": []
        },
        {
            "cell_type": "code",
            "execution_count": null,
            "metadata": {},
            "outputs": [],
            "source": [
                "from sklearn.model_selection import cross_val_score, TimeSeriesSplit\n",
                "\n",
                "plt.figure(figsize=(10,5))\n",
                "x = range(prediction.size)\n",
                "plt.plot(x, prediction, label='prediction', linewidth=2.0)\n",
                "plt.plot(x, y_test, label='actual', linewidth=2.0)\n",
                "\n",
                "\n",
                "timeseries_cv = TimeSeriesSplit(n_splits=5)\n",
                "cv = cross_val_score(rfr, X_train, y_train, \n",
                "                        cv=timeseries_cv, scoring='neg_mean_absolute_error')\n",
                "mae = -1 * cv.mean()\n",
                "deviation = cv.std()\n",
                "\n",
                "# hard-coded to be 95% confidence interval\n",
                "scale = 1.96\n",
                "margin_error = mae + scale * deviation\n",
                "lower = prediction - margin_error\n",
                "upper = prediction + margin_error\n",
                "\n",
                "fill_alpha = 0.2\n",
                "fill_color = '#66C2D7'\n",
                "plt.fill_between(x, lower, upper, color=fill_color, alpha=fill_alpha, label='95% CI')      \n",
                "\n",
                "# if plot_anomalies:\n",
                "#     anomalies = np.array([np.nan] * len(y_test))\n",
                "#     anomalies[y_test < lower] = y_test[y_test < lower]\n",
                "#     anomalies[y_test > upper] = y_test[y_test > upper]\n",
                "#     plt.plot(anomalies, 'o', markersize=10, label='Anomalies')\n",
                "\n",
                "error = mean_absolute_percentage_error(prediction, y_test)\n",
                "plt.title('Mean absolute percentage error {0:.2f}%'.format(error))\n",
                "plt.legend(loc='best')\n",
                "plt.tight_layout()\n",
                "plt.grid(True)"
            ]
        },
        {
            "cell_type": "code",
            "execution_count": null,
            "metadata": {},
            "outputs": [],
            "source": []
        },
        {
            "cell_type": "markdown",
            "metadata": {},
            "source": [
                "### Example: AAPL - XGBoost"
            ]
        },
        {
            "cell_type": "code",
            "execution_count": null,
            "metadata": {},
            "outputs": [],
            "source": [
                "importances = rfr.feature_importances_\n",
                "feature_names = data2.columns\n",
                "# Create a DataFrame for better visualization\n",
                "feature_importance_df = pd.DataFrame({'Feature': feature_names, 'Importance': importances})\n",
                "# Sort by importance (highest first)\n",
                "feature_importance_df = feature_importance_df.sort_values(by='Importance', ascending=False)\n",
                "\n",
                "feature_importance_df"
            ]
        },
        {
            "cell_type": "code",
            "execution_count": null,
            "metadata": {},
            "outputs": [],
            "source": [
                "## using Xgboost\n",
                "import xgboost as xgb\n",
                "\n",
                "xgb_reg = xgb.XGBRegressor(\n",
                "    objective=\"reg:squarederror\",\n",
                "    n_estimator=20,\n",
                "    learning_rate=0.1,\n",
                "    random_state=123,\n",
                ")\n",
                "xgb_reg.fit(X_train, y_train)"
            ]
        },
        {
            "cell_type": "code",
            "execution_count": null,
            "metadata": {},
            "outputs": [],
            "source": [
                "y_pred_xgb = xgb_reg.predict(X_test)\n",
                "score_mae = mean_absolute_error(y_test, y_pred_xgb)\n",
                "score_rmse = np.sqrt(mean_squared_error(y_test, y_pred_xgb))\n",
                "\n",
                "print(\"MAE: \", score_mae)\n",
                "print(\"RMSE: \", score_rmse)"
            ]
        },
        {
            "cell_type": "code",
            "execution_count": null,
            "metadata": {},
            "outputs": [],
            "source": [
                "importances_xgb = xgb_reg.feature_importances_\n",
                "feature_names_xgb = data2.columns\n",
                "# Create a DataFrame for better visualization\n",
                "feature_importance_df_xgb = pd.DataFrame({'Feature': feature_names_xgb, 'Importance': importances_xgb})\n",
                "# Sort by importance (highest first)\n",
                "feature_importance_df_xgb = feature_importance_df_xgb.sort_values(by='Importance', ascending=False)\n",
                "\n",
                "feature_importance_df_xgb"
            ]
        },
        {
            "cell_type": "code",
            "execution_count": null,
            "metadata": {},
            "outputs": [],
            "source": [
                "from sklearn.model_selection import cross_val_score, TimeSeriesSplit\n",
                "\n",
                "plt.figure(figsize=(10,5))\n",
                "x = range(prediction.size)\n",
                "plt.plot(x, prediction, label='prediction', linewidth=2.0)\n",
                "plt.plot(x, y_test, label='actual', linewidth=2.0)\n",
                "\n",
                "\n",
                "timeseries_cv = TimeSeriesSplit(n_splits=5)\n",
                "cv = cross_val_score(xgb_reg, X_train, y_train, \n",
                "                        cv=timeseries_cv, scoring='neg_mean_absolute_error')\n",
                "mae = -1 * cv.mean()\n",
                "deviation = cv.std()\n",
                "\n",
                "# hard-coded to be 95% confidence interval\n",
                "scale = 1.96\n",
                "margin_error = mae + scale * deviation\n",
                "lower = prediction - margin_error\n",
                "upper = prediction + margin_error\n",
                "\n",
                "fill_alpha = 0.2\n",
                "fill_color = '#66C2D7'\n",
                "plt.fill_between(x, lower, upper, color=fill_color, alpha=fill_alpha, label='95% CI')      \n",
                "\n",
                "# if plot_anomalies:\n",
                "#     anomalies = np.array([np.nan] * len(y_test))\n",
                "#     anomalies[y_test < lower] = y_test[y_test < lower]\n",
                "#     anomalies[y_test > upper] = y_test[y_test > upper]\n",
                "#     plt.plot(anomalies, 'o', markersize=10, label='Anomalies')\n",
                "\n",
                "error = mean_absolute_percentage_error(prediction, y_test)\n",
                "plt.title('Mean absolute percentage error {0:.2f}%'.format(error))\n",
                "plt.legend(loc='best')\n",
                "plt.tight_layout()\n",
                "plt.grid(True)"
            ]
        },
        {
            "cell_type": "code",
            "execution_count": null,
            "metadata": {},
            "outputs": [],
            "source": []
        }
    ],
    "metadata": {
        "kernelspec": {
            "display_name": ".venv",
            "language": "python",
            "name": "python3"
        },
        "language_info": {
            "codemirror_mode": {
                "name": "ipython",
                "version": 3
            },
            "file_extension": ".py",
            "mimetype": "text/x-python",
            "name": "python",
            "nbconvert_exporter": "python",
            "pygments_lexer": "ipython3",
            "version": "3.12.6"
        },
        "orig_nbformat": 4
    },
    "nbformat": 4,
    "nbformat_minor": 2
}
