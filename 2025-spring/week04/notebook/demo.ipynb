{
 "cells": [
  {
   "cell_type": "markdown",
   "metadata": {},
   "source": [
    "(**Click the icon below to open this notebook in Colab**)\n",
    "\n",
    "[![Open InColab](https://colab.research.google.com/assets/colab-badge.svg)](https://colab.research.google.com/github/xiangshiyin/machine-learning-for-actuarial-science/blob/main/2025-spring/week04/notebook/demo.ipynb)"
   ]
  },
  {
   "cell_type": "markdown",
   "metadata": {},
   "source": [
    "# Softmax regression vs. Logistic Regression\n",
    "\n",
    "Last week, we talked about an example of using softmax regression to recognize handwritten digits. The softmax regression algorithm could essentially be expressed as\n",
    "\n",
    "$$\n",
    "\\begin{aligned}\n",
    "\\hat{y} = \\text{softmax}(\\mathbf{X} \\cdot \\theta) = \\frac{\\exp(\\mathbf{X} \\cdot \\theta)}{\\sum_{i=1}^{C} \\exp(\\mathbf{X}_i \\cdot \\theta)}\n",
    "\\end{aligned}\n",
    "$$\n",
    "\n",
    "Where:\n",
    "- $X$ is the input training data matrix (shape $(N,D)$), where $N$ is the number of samples in the training batch and $D$ is the number of features.\n",
    "- $\\theta$ is the weight matrix (shape $(D,C)$), where $C$ is the number of classes.\n",
    "- $\\hat{y}$ is the predicted probability distribution over the classes (shape $(N,C)$).\n",
    "\n",
    "\n",
    "In case $C=2$, we can simplify the softmax regression to logistic regression, which is a special case of softmax regression. The logistic regression algorithm could be expressed as\n",
    "$$\n",
    "\\begin{aligned}\n",
    "\\hat{y} = \\text{sigmoid}(\\mathbf{X} \\cdot \\theta) = \\frac{1}{1 + \\exp(-\\mathbf{X} \\cdot \\theta)}\n",
    "\\end{aligned}\n",
    "$$\n",
    "\n",
    "So the same set of model architecture, loss function, and optimization algorithm can be used for both softmax regression and logistic regression. We will have one question covering the implementation of logistic regression algorithm in the homework assignment.\n"
   ]
  },
  {
   "cell_type": "code",
   "execution_count": null,
   "metadata": {},
   "outputs": [],
   "source": []
  },
  {
   "cell_type": "code",
   "execution_count": null,
   "metadata": {},
   "outputs": [],
   "source": []
  },
  {
   "cell_type": "code",
   "execution_count": null,
   "metadata": {},
   "outputs": [],
   "source": []
  },
  {
   "cell_type": "code",
   "execution_count": null,
   "metadata": {},
   "outputs": [],
   "source": []
  },
  {
   "cell_type": "code",
   "execution_count": null,
   "metadata": {},
   "outputs": [],
   "source": []
  },
  {
   "cell_type": "code",
   "execution_count": null,
   "metadata": {},
   "outputs": [],
   "source": []
  }
 ],
 "metadata": {
  "kernelspec": {
   "display_name": ".venv",
   "language": "python",
   "name": "python3"
  },
  "language_info": {
   "name": "python",
   "version": "3.12.6"
  },
  "orig_nbformat": 4
 },
 "nbformat": 4,
 "nbformat_minor": 2
}
