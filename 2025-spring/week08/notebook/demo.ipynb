{
    "cells": [
        {
            "cell_type": "markdown",
            "metadata": {},
            "source": [
                "(**Click the icon below to open this notebook in Colab**)\n",
                "\n",
                "[![Open InColab](https://colab.research.google.com/assets/colab-badge.svg)](https://colab.research.google.com/github/xiangshiyin/machine-learning-for-actuarial-science/blob/main/2025-spring/week08/notebook/demo.ipynb)"
            ]
        },
        {
            "cell_type": "code",
            "execution_count": 1,
            "metadata": {},
            "outputs": [
                {
                    "name": "stdout",
                    "output_type": "stream",
                    "text": [
                        "total 4\n",
                        "-rw-r--r-- 1 jovyan users 476 Feb 25 03:21 README.md\n",
                        "drwxr-xr-x 4 jovyan users 128 Feb 26 21:58 data\n",
                        "drwxr-xr-x 3 root   root   96 Feb 25 03:19 notebook\n",
                        "drwxr-xr-x 2 jovyan users  64 Feb 25 03:19 pics\n"
                    ]
                }
            ],
            "source": [
                "%%sh\n",
                "\n",
                "ls -l work/2025-spring/week08/"
            ]
        },
        {
            "cell_type": "code",
            "execution_count": null,
            "metadata": {},
            "outputs": [],
            "source": []
        },
        {
            "cell_type": "markdown",
            "metadata": {},
            "source": [
                "# Recap of Last Class"
            ]
        },
        {
            "cell_type": "markdown",
            "metadata": {},
            "source": [
                "## Example - `prophet`\n",
                "\n",
                "Prophet is an enhanced statistical tool because it extends traditional time series models with automated trend and seasonality detection, making it user-friendly and effective for business applications.\n",
                "\n",
                "## Key Differences Between Holiday Effect and Seasonality  \n",
                "\n",
                "| Feature            | Seasonality  | Holiday Effect |\n",
                "|--------------------|-------------|---------------|\n",
                "| **Definition**     | A **repeating pattern** that occurs at a fixed frequency (e.g., daily, weekly, yearly). | An impact on the time series caused by specific holidays or events. |\n",
                "| **Regularity**     | **Strictly periodic** (e.g., weekly sales cycles, annual weather patterns). | **Not necessarily periodic** (holidays can fall on different weekdays each year). |\n",
                "| **Examples**       | Increased ice cream sales in summer (yearly seasonality). Higher website traffic on weekends (weekly seasonality). | Lower stock market activity on Christmas. Higher online sales on Black Friday. |\n",
                "| **Modeling in Prophet** | Modeled using a **Fourier series** to capture repeating cycles. | Modeled using **dummy variables** for specific dates, allowing deviations from normal patterns. |\n"
            ]
        },
        {
            "cell_type": "code",
            "execution_count": 2,
            "metadata": {},
            "outputs": [
                {
                    "name": "stderr",
                    "output_type": "stream",
                    "text": [
                        "Importing plotly failed. Interactive plots will not work.\n"
                    ]
                }
            ],
            "source": [
                "import pandas as pd\n",
                "from prophet import Prophet\n",
                "\n",
                "playoffs = pd.DataFrame({\n",
                "  'holiday': 'playoff',\n",
                "  'ds': pd.to_datetime(['2008-01-13', '2009-01-03', '2010-01-16',\n",
                "                        '2010-01-24', '2010-02-07', '2011-01-08',\n",
                "                        '2013-01-12', '2014-01-12', '2014-01-19',\n",
                "                        '2014-02-02', '2015-01-11', '2016-01-17',\n",
                "                        '2016-01-24', '2016-02-07']),\n",
                "  'lower_window': 0,\n",
                "  'upper_window': 1,\n",
                "})\n",
                "superbowls = pd.DataFrame({\n",
                "  'holiday': 'superbowl',\n",
                "  'ds': pd.to_datetime(['2010-02-07', '2014-02-02', '2016-02-07']),\n",
                "  'lower_window': 0,\n",
                "  'upper_window': 1,\n",
                "})\n",
                "holidays = pd.concat((playoffs, superbowls))"
            ]
        },
        {
            "cell_type": "code",
            "execution_count": 3,
            "metadata": {},
            "outputs": [
                {
                    "data": {
                        "text/html": [
                            "<div>\n",
                            "<style scoped>\n",
                            "    .dataframe tbody tr th:only-of-type {\n",
                            "        vertical-align: middle;\n",
                            "    }\n",
                            "\n",
                            "    .dataframe tbody tr th {\n",
                            "        vertical-align: top;\n",
                            "    }\n",
                            "\n",
                            "    .dataframe thead th {\n",
                            "        text-align: right;\n",
                            "    }\n",
                            "</style>\n",
                            "<table border=\"1\" class=\"dataframe\">\n",
                            "  <thead>\n",
                            "    <tr style=\"text-align: right;\">\n",
                            "      <th></th>\n",
                            "      <th>holiday</th>\n",
                            "      <th>ds</th>\n",
                            "      <th>lower_window</th>\n",
                            "      <th>upper_window</th>\n",
                            "    </tr>\n",
                            "  </thead>\n",
                            "  <tbody>\n",
                            "    <tr>\n",
                            "      <th>0</th>\n",
                            "      <td>playoff</td>\n",
                            "      <td>2008-01-13</td>\n",
                            "      <td>0</td>\n",
                            "      <td>1</td>\n",
                            "    </tr>\n",
                            "    <tr>\n",
                            "      <th>1</th>\n",
                            "      <td>playoff</td>\n",
                            "      <td>2009-01-03</td>\n",
                            "      <td>0</td>\n",
                            "      <td>1</td>\n",
                            "    </tr>\n",
                            "    <tr>\n",
                            "      <th>2</th>\n",
                            "      <td>playoff</td>\n",
                            "      <td>2010-01-16</td>\n",
                            "      <td>0</td>\n",
                            "      <td>1</td>\n",
                            "    </tr>\n",
                            "    <tr>\n",
                            "      <th>3</th>\n",
                            "      <td>playoff</td>\n",
                            "      <td>2010-01-24</td>\n",
                            "      <td>0</td>\n",
                            "      <td>1</td>\n",
                            "    </tr>\n",
                            "    <tr>\n",
                            "      <th>4</th>\n",
                            "      <td>playoff</td>\n",
                            "      <td>2010-02-07</td>\n",
                            "      <td>0</td>\n",
                            "      <td>1</td>\n",
                            "    </tr>\n",
                            "    <tr>\n",
                            "      <th>5</th>\n",
                            "      <td>playoff</td>\n",
                            "      <td>2011-01-08</td>\n",
                            "      <td>0</td>\n",
                            "      <td>1</td>\n",
                            "    </tr>\n",
                            "    <tr>\n",
                            "      <th>6</th>\n",
                            "      <td>playoff</td>\n",
                            "      <td>2013-01-12</td>\n",
                            "      <td>0</td>\n",
                            "      <td>1</td>\n",
                            "    </tr>\n",
                            "    <tr>\n",
                            "      <th>7</th>\n",
                            "      <td>playoff</td>\n",
                            "      <td>2014-01-12</td>\n",
                            "      <td>0</td>\n",
                            "      <td>1</td>\n",
                            "    </tr>\n",
                            "    <tr>\n",
                            "      <th>8</th>\n",
                            "      <td>playoff</td>\n",
                            "      <td>2014-01-19</td>\n",
                            "      <td>0</td>\n",
                            "      <td>1</td>\n",
                            "    </tr>\n",
                            "    <tr>\n",
                            "      <th>9</th>\n",
                            "      <td>playoff</td>\n",
                            "      <td>2014-02-02</td>\n",
                            "      <td>0</td>\n",
                            "      <td>1</td>\n",
                            "    </tr>\n",
                            "    <tr>\n",
                            "      <th>10</th>\n",
                            "      <td>playoff</td>\n",
                            "      <td>2015-01-11</td>\n",
                            "      <td>0</td>\n",
                            "      <td>1</td>\n",
                            "    </tr>\n",
                            "    <tr>\n",
                            "      <th>11</th>\n",
                            "      <td>playoff</td>\n",
                            "      <td>2016-01-17</td>\n",
                            "      <td>0</td>\n",
                            "      <td>1</td>\n",
                            "    </tr>\n",
                            "    <tr>\n",
                            "      <th>12</th>\n",
                            "      <td>playoff</td>\n",
                            "      <td>2016-01-24</td>\n",
                            "      <td>0</td>\n",
                            "      <td>1</td>\n",
                            "    </tr>\n",
                            "    <tr>\n",
                            "      <th>13</th>\n",
                            "      <td>playoff</td>\n",
                            "      <td>2016-02-07</td>\n",
                            "      <td>0</td>\n",
                            "      <td>1</td>\n",
                            "    </tr>\n",
                            "    <tr>\n",
                            "      <th>0</th>\n",
                            "      <td>superbowl</td>\n",
                            "      <td>2010-02-07</td>\n",
                            "      <td>0</td>\n",
                            "      <td>1</td>\n",
                            "    </tr>\n",
                            "    <tr>\n",
                            "      <th>1</th>\n",
                            "      <td>superbowl</td>\n",
                            "      <td>2014-02-02</td>\n",
                            "      <td>0</td>\n",
                            "      <td>1</td>\n",
                            "    </tr>\n",
                            "    <tr>\n",
                            "      <th>2</th>\n",
                            "      <td>superbowl</td>\n",
                            "      <td>2016-02-07</td>\n",
                            "      <td>0</td>\n",
                            "      <td>1</td>\n",
                            "    </tr>\n",
                            "  </tbody>\n",
                            "</table>\n",
                            "</div>"
                        ],
                        "text/plain": [
                            "      holiday         ds  lower_window  upper_window\n",
                            "0     playoff 2008-01-13             0             1\n",
                            "1     playoff 2009-01-03             0             1\n",
                            "2     playoff 2010-01-16             0             1\n",
                            "3     playoff 2010-01-24             0             1\n",
                            "4     playoff 2010-02-07             0             1\n",
                            "5     playoff 2011-01-08             0             1\n",
                            "6     playoff 2013-01-12             0             1\n",
                            "7     playoff 2014-01-12             0             1\n",
                            "8     playoff 2014-01-19             0             1\n",
                            "9     playoff 2014-02-02             0             1\n",
                            "10    playoff 2015-01-11             0             1\n",
                            "11    playoff 2016-01-17             0             1\n",
                            "12    playoff 2016-01-24             0             1\n",
                            "13    playoff 2016-02-07             0             1\n",
                            "0   superbowl 2010-02-07             0             1\n",
                            "1   superbowl 2014-02-02             0             1\n",
                            "2   superbowl 2016-02-07             0             1"
                        ]
                    },
                    "execution_count": 3,
                    "metadata": {},
                    "output_type": "execute_result"
                }
            ],
            "source": [
                "holidays"
            ]
        },
        {
            "cell_type": "markdown",
            "metadata": {},
            "source": [
                "The time series of the log daily page views for the Wikipedia page for Peyton Manning is used here\n",
                "- https://facebook.github.io/prophet/docs/quick_start.html"
            ]
        },
        {
            "cell_type": "code",
            "execution_count": 4,
            "metadata": {},
            "outputs": [
                {
                    "data": {
                        "text/html": [
                            "<div>\n",
                            "<style scoped>\n",
                            "    .dataframe tbody tr th:only-of-type {\n",
                            "        vertical-align: middle;\n",
                            "    }\n",
                            "\n",
                            "    .dataframe tbody tr th {\n",
                            "        vertical-align: top;\n",
                            "    }\n",
                            "\n",
                            "    .dataframe thead th {\n",
                            "        text-align: right;\n",
                            "    }\n",
                            "</style>\n",
                            "<table border=\"1\" class=\"dataframe\">\n",
                            "  <thead>\n",
                            "    <tr style=\"text-align: right;\">\n",
                            "      <th></th>\n",
                            "      <th>ds</th>\n",
                            "      <th>y</th>\n",
                            "    </tr>\n",
                            "  </thead>\n",
                            "  <tbody>\n",
                            "    <tr>\n",
                            "      <th>0</th>\n",
                            "      <td>2007-12-10</td>\n",
                            "      <td>9.590761</td>\n",
                            "    </tr>\n",
                            "    <tr>\n",
                            "      <th>1</th>\n",
                            "      <td>2007-12-11</td>\n",
                            "      <td>8.519590</td>\n",
                            "    </tr>\n",
                            "    <tr>\n",
                            "      <th>2</th>\n",
                            "      <td>2007-12-12</td>\n",
                            "      <td>8.183677</td>\n",
                            "    </tr>\n",
                            "    <tr>\n",
                            "      <th>3</th>\n",
                            "      <td>2007-12-13</td>\n",
                            "      <td>8.072467</td>\n",
                            "    </tr>\n",
                            "    <tr>\n",
                            "      <th>4</th>\n",
                            "      <td>2007-12-14</td>\n",
                            "      <td>7.893572</td>\n",
                            "    </tr>\n",
                            "  </tbody>\n",
                            "</table>\n",
                            "</div>"
                        ],
                        "text/plain": [
                            "           ds         y\n",
                            "0  2007-12-10  9.590761\n",
                            "1  2007-12-11  8.519590\n",
                            "2  2007-12-12  8.183677\n",
                            "3  2007-12-13  8.072467\n",
                            "4  2007-12-14  7.893572"
                        ]
                    },
                    "execution_count": 4,
                    "metadata": {},
                    "output_type": "execute_result"
                }
            ],
            "source": [
                "df = pd.read_csv('https://raw.githubusercontent.com/facebook/prophet/main/examples/example_wp_log_peyton_manning.csv')\n",
                "df.head()"
            ]
        },
        {
            "cell_type": "code",
            "execution_count": 5,
            "metadata": {},
            "outputs": [
                {
                    "name": "stderr",
                    "output_type": "stream",
                    "text": [
                        "16:01:40 - cmdstanpy - INFO - Chain [1] start processing\n",
                        "16:01:41 - cmdstanpy - INFO - Chain [1] done processing\n"
                    ]
                },
                {
                    "data": {
                        "text/html": [
                            "<div>\n",
                            "<style scoped>\n",
                            "    .dataframe tbody tr th:only-of-type {\n",
                            "        vertical-align: middle;\n",
                            "    }\n",
                            "\n",
                            "    .dataframe tbody tr th {\n",
                            "        vertical-align: top;\n",
                            "    }\n",
                            "\n",
                            "    .dataframe thead th {\n",
                            "        text-align: right;\n",
                            "    }\n",
                            "</style>\n",
                            "<table border=\"1\" class=\"dataframe\">\n",
                            "  <thead>\n",
                            "    <tr style=\"text-align: right;\">\n",
                            "      <th></th>\n",
                            "      <th>ds</th>\n",
                            "    </tr>\n",
                            "  </thead>\n",
                            "  <tbody>\n",
                            "    <tr>\n",
                            "      <th>3265</th>\n",
                            "      <td>2017-01-15</td>\n",
                            "    </tr>\n",
                            "    <tr>\n",
                            "      <th>3266</th>\n",
                            "      <td>2017-01-16</td>\n",
                            "    </tr>\n",
                            "    <tr>\n",
                            "      <th>3267</th>\n",
                            "      <td>2017-01-17</td>\n",
                            "    </tr>\n",
                            "    <tr>\n",
                            "      <th>3268</th>\n",
                            "      <td>2017-01-18</td>\n",
                            "    </tr>\n",
                            "    <tr>\n",
                            "      <th>3269</th>\n",
                            "      <td>2017-01-19</td>\n",
                            "    </tr>\n",
                            "  </tbody>\n",
                            "</table>\n",
                            "</div>"
                        ],
                        "text/plain": [
                            "             ds\n",
                            "3265 2017-01-15\n",
                            "3266 2017-01-16\n",
                            "3267 2017-01-17\n",
                            "3268 2017-01-18\n",
                            "3269 2017-01-19"
                        ]
                    },
                    "execution_count": 5,
                    "metadata": {},
                    "output_type": "execute_result"
                }
            ],
            "source": [
                "m = Prophet(holidays=holidays)\n",
                "m.fit(df)\n",
                "\n",
                "future = m.make_future_dataframe(periods=365)\n",
                "future.tail()"
            ]
        },
        {
            "cell_type": "code",
            "execution_count": 6,
            "metadata": {},
            "outputs": [
                {
                    "data": {
                        "text/html": [
                            "<div>\n",
                            "<style scoped>\n",
                            "    .dataframe tbody tr th:only-of-type {\n",
                            "        vertical-align: middle;\n",
                            "    }\n",
                            "\n",
                            "    .dataframe tbody tr th {\n",
                            "        vertical-align: top;\n",
                            "    }\n",
                            "\n",
                            "    .dataframe thead th {\n",
                            "        text-align: right;\n",
                            "    }\n",
                            "</style>\n",
                            "<table border=\"1\" class=\"dataframe\">\n",
                            "  <thead>\n",
                            "    <tr style=\"text-align: right;\">\n",
                            "      <th></th>\n",
                            "      <th>ds</th>\n",
                            "      <th>playoff</th>\n",
                            "      <th>superbowl</th>\n",
                            "    </tr>\n",
                            "  </thead>\n",
                            "  <tbody>\n",
                            "    <tr>\n",
                            "      <th>2190</th>\n",
                            "      <td>2014-02-02</td>\n",
                            "      <td>1.217847</td>\n",
                            "      <td>1.200633</td>\n",
                            "    </tr>\n",
                            "    <tr>\n",
                            "      <th>2191</th>\n",
                            "      <td>2014-02-03</td>\n",
                            "      <td>1.898839</td>\n",
                            "      <td>1.455819</td>\n",
                            "    </tr>\n",
                            "    <tr>\n",
                            "      <th>2532</th>\n",
                            "      <td>2015-01-11</td>\n",
                            "      <td>1.217847</td>\n",
                            "      <td>0.000000</td>\n",
                            "    </tr>\n",
                            "    <tr>\n",
                            "      <th>2533</th>\n",
                            "      <td>2015-01-12</td>\n",
                            "      <td>1.898839</td>\n",
                            "      <td>0.000000</td>\n",
                            "    </tr>\n",
                            "    <tr>\n",
                            "      <th>2901</th>\n",
                            "      <td>2016-01-17</td>\n",
                            "      <td>1.217847</td>\n",
                            "      <td>0.000000</td>\n",
                            "    </tr>\n",
                            "    <tr>\n",
                            "      <th>2902</th>\n",
                            "      <td>2016-01-18</td>\n",
                            "      <td>1.898839</td>\n",
                            "      <td>0.000000</td>\n",
                            "    </tr>\n",
                            "    <tr>\n",
                            "      <th>2908</th>\n",
                            "      <td>2016-01-24</td>\n",
                            "      <td>1.217847</td>\n",
                            "      <td>0.000000</td>\n",
                            "    </tr>\n",
                            "    <tr>\n",
                            "      <th>2909</th>\n",
                            "      <td>2016-01-25</td>\n",
                            "      <td>1.898839</td>\n",
                            "      <td>0.000000</td>\n",
                            "    </tr>\n",
                            "    <tr>\n",
                            "      <th>2922</th>\n",
                            "      <td>2016-02-07</td>\n",
                            "      <td>1.217847</td>\n",
                            "      <td>1.200633</td>\n",
                            "    </tr>\n",
                            "    <tr>\n",
                            "      <th>2923</th>\n",
                            "      <td>2016-02-08</td>\n",
                            "      <td>1.898839</td>\n",
                            "      <td>1.455819</td>\n",
                            "    </tr>\n",
                            "  </tbody>\n",
                            "</table>\n",
                            "</div>"
                        ],
                        "text/plain": [
                            "             ds   playoff  superbowl\n",
                            "2190 2014-02-02  1.217847   1.200633\n",
                            "2191 2014-02-03  1.898839   1.455819\n",
                            "2532 2015-01-11  1.217847   0.000000\n",
                            "2533 2015-01-12  1.898839   0.000000\n",
                            "2901 2016-01-17  1.217847   0.000000\n",
                            "2902 2016-01-18  1.898839   0.000000\n",
                            "2908 2016-01-24  1.217847   0.000000\n",
                            "2909 2016-01-25  1.898839   0.000000\n",
                            "2922 2016-02-07  1.217847   1.200633\n",
                            "2923 2016-02-08  1.898839   1.455819"
                        ]
                    },
                    "execution_count": 6,
                    "metadata": {},
                    "output_type": "execute_result"
                }
            ],
            "source": [
                "forecast = m.predict(future)\n",
                "forecast[(forecast['playoff'] + forecast['superbowl']).abs() > 0][\n",
                "        ['ds', 'playoff', 'superbowl']][-10:]"
            ]
        },
        {
            "cell_type": "code",
            "execution_count": 7,
            "metadata": {},
            "outputs": [
                {
                    "data": {
                        "image/png": "[encoded data removed]",
                        "text/plain": [
                            "<Figure size 900x1200 with 4 Axes>"
                        ]
                    },
                    "metadata": {},
                    "output_type": "display_data"
                }
            ],
            "source": [
                "fig = m.plot_components(forecast)"
            ]
        },
        {
            "cell_type": "code",
            "execution_count": null,
            "metadata": {},
            "outputs": [],
            "source": []
        },
        {
            "cell_type": "markdown",
            "metadata": {},
            "source": [
                "## Example - `LSTM`"
            ]
        },
        {
            "cell_type": "code",
            "execution_count": 8,
            "metadata": {},
            "outputs": [
                {
                    "data": {
                        "text/html": [
                            "<div>\n",
                            "<style scoped>\n",
                            "    .dataframe tbody tr th:only-of-type {\n",
                            "        vertical-align: middle;\n",
                            "    }\n",
                            "\n",
                            "    .dataframe tbody tr th {\n",
                            "        vertical-align: top;\n",
                            "    }\n",
                            "\n",
                            "    .dataframe thead th {\n",
                            "        text-align: right;\n",
                            "    }\n",
                            "</style>\n",
                            "<table border=\"1\" class=\"dataframe\">\n",
                            "  <thead>\n",
                            "    <tr style=\"text-align: right;\">\n",
                            "      <th></th>\n",
                            "      <th>Date</th>\n",
                            "      <th>Open</th>\n",
                            "      <th>High</th>\n",
                            "      <th>Low</th>\n",
                            "      <th>Close</th>\n",
                            "      <th>Volume</th>\n",
                            "    </tr>\n",
                            "  </thead>\n",
                            "  <tbody>\n",
                            "    <tr>\n",
                            "      <th>0</th>\n",
                            "      <td>1/3/2012</td>\n",
                            "      <td>325.25</td>\n",
                            "      <td>332.83</td>\n",
                            "      <td>324.97</td>\n",
                            "      <td>663.59</td>\n",
                            "      <td>7,380,500</td>\n",
                            "    </tr>\n",
                            "    <tr>\n",
                            "      <th>1</th>\n",
                            "      <td>1/4/2012</td>\n",
                            "      <td>331.27</td>\n",
                            "      <td>333.87</td>\n",
                            "      <td>329.08</td>\n",
                            "      <td>666.45</td>\n",
                            "      <td>5,749,400</td>\n",
                            "    </tr>\n",
                            "    <tr>\n",
                            "      <th>2</th>\n",
                            "      <td>1/5/2012</td>\n",
                            "      <td>329.83</td>\n",
                            "      <td>330.75</td>\n",
                            "      <td>326.89</td>\n",
                            "      <td>657.21</td>\n",
                            "      <td>6,590,300</td>\n",
                            "    </tr>\n",
                            "    <tr>\n",
                            "      <th>3</th>\n",
                            "      <td>1/6/2012</td>\n",
                            "      <td>328.34</td>\n",
                            "      <td>328.77</td>\n",
                            "      <td>323.68</td>\n",
                            "      <td>648.24</td>\n",
                            "      <td>5,405,900</td>\n",
                            "    </tr>\n",
                            "    <tr>\n",
                            "      <th>4</th>\n",
                            "      <td>1/9/2012</td>\n",
                            "      <td>322.04</td>\n",
                            "      <td>322.29</td>\n",
                            "      <td>309.46</td>\n",
                            "      <td>620.76</td>\n",
                            "      <td>11,688,800</td>\n",
                            "    </tr>\n",
                            "  </tbody>\n",
                            "</table>\n",
                            "</div>"
                        ],
                        "text/plain": [
                            "       Date    Open    High     Low   Close      Volume\n",
                            "0  1/3/2012  325.25  332.83  324.97  663.59   7,380,500\n",
                            "1  1/4/2012  331.27  333.87  329.08  666.45   5,749,400\n",
                            "2  1/5/2012  329.83  330.75  326.89  657.21   6,590,300\n",
                            "3  1/6/2012  328.34  328.77  323.68  648.24   5,405,900\n",
                            "4  1/9/2012  322.04  322.29  309.46  620.76  11,688,800"
                        ]
                    },
                    "execution_count": 8,
                    "metadata": {},
                    "output_type": "execute_result"
                }
            ],
            "source": [
                "import pandas as pd\n",
                "import numpy as np\n",
                "import matplotlib.pyplot as plt\n",
                "\n",
                "# dataset_train = pd.read_csv('../data/Google_Stock_Price_Train.csv')\n",
                "dataset_train = pd.read_csv('work/2025-spring/week08/data/Google_Stock_Price_Train.csv')\n",
                "dataset_train.head()"
            ]
        },
        {
            "cell_type": "code",
            "execution_count": 9,
            "metadata": {},
            "outputs": [],
            "source": [
                "from sklearn.preprocessing import MinMaxScaler\n",
                "\n",
                "sc = MinMaxScaler(feature_range = (0, 1))\n",
                "training_set = dataset_train.iloc[:, 1:2].values\n",
                "training_set_scaled = sc.fit_transform(training_set)"
            ]
        },
        {
            "cell_type": "code",
            "execution_count": 10,
            "metadata": {},
            "outputs": [
                {
                    "data": {
                        "text/plain": [
                            "(1258, 1)"
                        ]
                    },
                    "execution_count": 10,
                    "metadata": {},
                    "output_type": "execute_result"
                }
            ],
            "source": [
                "training_set_scaled.shape"
            ]
        },
        {
            "cell_type": "code",
            "execution_count": 11,
            "metadata": {},
            "outputs": [
                {
                    "data": {
                        "text/plain": [
                            "array([[0.08581368],\n",
                            "       [0.09701243],\n",
                            "       [0.09433366],\n",
                            "       [0.09156187],\n",
                            "       [0.07984225],\n",
                            "       [0.0643277 ],\n",
                            "       [0.0585423 ],\n",
                            "       [0.06568569],\n",
                            "       [0.06109085],\n",
                            "       [0.06639259]])"
                        ]
                    },
                    "execution_count": 11,
                    "metadata": {},
                    "output_type": "execute_result"
                }
            ],
            "source": [
                "training_set_scaled[0:10,:]"
            ]
        },
        {
            "cell_type": "code",
            "execution_count": 12,
            "metadata": {},
            "outputs": [],
            "source": [
                "X_train = []\n",
                "y_train = []\n",
                "\n",
                "for i in range(60, len(training_set_scaled)):\n",
                "    X_train.append(training_set_scaled[i-60:i, 0])\n",
                "    y_train.append(training_set_scaled[i, 0])\n",
                "\n",
                "X_train, y_train = np.array(X_train), np.array(y_train)"
            ]
        },
        {
            "cell_type": "code",
            "execution_count": 13,
            "metadata": {},
            "outputs": [
                {
                    "data": {
                        "text/plain": [
                            "(1198, 60)"
                        ]
                    },
                    "execution_count": 13,
                    "metadata": {},
                    "output_type": "execute_result"
                }
            ],
            "source": [
                "X_train.shape"
            ]
        },
        {
            "cell_type": "code",
            "execution_count": 14,
            "metadata": {},
            "outputs": [],
            "source": [
                "X_train = X_train.reshape(X_train.shape[0], X_train.shape[1], 1)"
            ]
        },
        {
            "cell_type": "code",
            "execution_count": 17,
            "metadata": {},
            "outputs": [
                {
                    "name": "stderr",
                    "output_type": "stream",
                    "text": [
                        "2025-02-27 17:45:44.552842: I tensorflow/core/platform/cpu_feature_guard.cc:210] This TensorFlow binary is optimized to use available CPU instructions in performance-critical operations.\n",
                        "To enable the following instructions: AVX2 FMA, in other operations, rebuild TensorFlow with the appropriate compiler flags.\n"
                    ]
                },
                {
                    "data": {
                        "text/plain": [
                            "'2.18.0'"
                        ]
                    },
                    "execution_count": 17,
                    "metadata": {},
                    "output_type": "execute_result"
                }
            ],
            "source": [
                "import tensorflow as tf\n",
                "\n",
                "tf.__version__"
            ]
        },
        {
            "cell_type": "code",
            "execution_count": null,
            "metadata": {},
            "outputs": [],
            "source": []
        }
    ],
    "metadata": {
        "kernelspec": {
            "display_name": "Python 3 (ipykernel)",
            "language": "python",
            "name": "python3"
        },
        "orig_nbformat": 4
    },
    "nbformat": 4,
    "nbformat_minor": 2
}
