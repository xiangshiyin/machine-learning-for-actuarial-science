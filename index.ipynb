{
 "cells": [
  {
   "cell_type": "code",
   "execution_count": null,
   "metadata": {
    "vscode": {
     "languageId": "plaintext"
    }
   },
   "outputs": [],
   "source": []
  },
  {
   "cell_type": "markdown",
   "metadata": {},
   "source": [
    "## Notebooks\n",
    "<details>\n",
    "  <summary><strong>2025 Spring</strong></summary>\n",
    "  <ul>\n",
    "    <li><a href=\"./2025-spring/week01/notebook/demo.ipynb\">week01</a></li>\n",
    "    <li><a href=\"./2025-spring/week03/notebook/demo.ipynb\">week03</a></li>\n",
    "    <li><a href=\"./2025-spring/week04/notebook/demo.ipynb\">week04</a></li>\n",
    "    <li><a href=\"./2025-spring/week05/notebook/demo.ipynb\">week05</a></li>\n",
    "    <li><a href=\"./2025-spring/week06/notebook/demo.ipynb\">week06</a></li>\n",
    "    <li><a href=\"./2025-spring/week07/notebook/demo.ipynb\">week07</a></li>\n",
    "    <li><a href=\"./2025-spring/week08/notebook/demo.ipynb\">week08</a></li>\n",
    "    <li><a href=\"./2025-spring/week09/notebook/demo.ipynb\">week09</a></li>\n",
    "    <li><a href=\"./2025-spring/week11/notebook/demo.ipynb\">week11</a></li>\n",
    "    <li><a href=\"./2025-spring/week12/notebook/demo.ipynb\">week12</a></li>\n",
    "    <li><a href=\"./2025-spring/week13/notebook/demo.ipynb\">week13</a></li>\n",
    "    <li><a href=\"./2025-spring/week14/notebook/demo.ipynb\">week14</a></li>\n",
    "    <!-- Add more list items here -->\n",
    "  </ul>\n",
    "</details>"
   ]
  },
  {
   "cell_type": "markdown",
   "metadata": {},
   "source": []
  }
 ],
 "metadata": {
  "language_info": {
   "name": "python"
  }
 },
 "nbformat": 4,
 "nbformat_minor": 2
}
